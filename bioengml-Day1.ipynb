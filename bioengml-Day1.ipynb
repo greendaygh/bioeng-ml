{
 "cells": [
  {
   "cell_type": "markdown",
   "metadata": {},
   "source": [
    "# 파이썬 기본 문법"
   ]
  },
  {
   "cell_type": "markdown",
   "metadata": {},
   "source": [
    "* 파이썬의 변수는 값을 저장하는 주소를 가리키는 바인더"
   ]
  },
  {
   "cell_type": "code",
   "execution_count": 15,
   "metadata": {},
   "outputs": [
    {
     "name": "stdout",
     "output_type": "stream",
     "text": [
      "10\n",
      "<class 'int'>\n"
     ]
    }
   ],
   "source": [
    "a = 10\n",
    "print(a)\n",
    "print(type(a))"
   ]
  },
  {
   "cell_type": "markdown",
   "metadata": {},
   "source": [
    "* 논리연산자, True, False, and, or"
   ]
  },
  {
   "cell_type": "code",
   "execution_count": 2,
   "metadata": {},
   "outputs": [
    {
     "name": "stdout",
     "output_type": "stream",
     "text": [
      "False\n",
      "True\n",
      "False\n"
     ]
    }
   ],
   "source": [
    "print(True and False)\n",
    "print(True or False)\n",
    "print(not True and False)"
   ]
  },
  {
   "cell_type": "markdown",
   "metadata": {},
   "source": [
    "* 조건문, if, elif, else"
   ]
  },
  {
   "cell_type": "code",
   "execution_count": 3,
   "metadata": {},
   "outputs": [
    {
     "name": "stdout",
     "output_type": "stream",
     "text": [
      "Geater than 10\n",
      "Or equal to 10\n"
     ]
    }
   ],
   "source": [
    "a = 10\n",
    "if a < 0:\n",
    "    print(\"Negative\")\n",
    "elif a >= 0 and a < 10:\n",
    "    print(\"Less than 10\")\n",
    "else:\n",
    "    print(\"Geater than 10\")\n",
    "    print(\"Or equal to 10\")"
   ]
  },
  {
   "cell_type": "markdown",
   "metadata": {},
   "source": [
    "* 반복문 for, while"
   ]
  },
  {
   "cell_type": "code",
   "execution_count": 4,
   "metadata": {},
   "outputs": [
    {
     "name": "stdout",
     "output_type": "stream",
     "text": [
      "for1 0\n",
      "for2 0\n",
      "for1 1\n",
      "for2 1\n",
      "for1 2\n",
      "for2 2\n",
      "for1 3\n",
      "for2 3\n",
      "while 0\n",
      "while 1\n",
      "while 2\n",
      "stop\n"
     ]
    }
   ],
   "source": [
    "for i in [0, 1, 2, 3]:\n",
    "        print(\"for1\", i)\n",
    "        print(\"for2\", i)\n",
    "\n",
    "a = 4\n",
    "i = 0\n",
    "while i < a:\n",
    "    print(\"while\", i)\n",
    "    if i == 2:\n",
    "        print(\"stop\")\n",
    "        break\n",
    "    i = i+1"
   ]
  },
  {
   "cell_type": "markdown",
   "metadata": {},
   "source": [
    "# 파이썬 기본 자료 구조"
   ]
  },
  {
   "cell_type": "markdown",
   "metadata": {},
   "source": [
    "## List (리스트)\n",
    "* 리스트는 여러 개의 데이터를 순서대로 저장하고 관리할 때 사용"
   ]
  },
  {
   "cell_type": "code",
   "execution_count": 16,
   "metadata": {},
   "outputs": [],
   "source": [
    "expression = [\"geneA\", 1]\n",
    "expression = [1, 2, 3]\n",
    "expression = []"
   ]
  },
  {
   "cell_type": "markdown",
   "metadata": {},
   "source": [
    "* 인덱싱은 값 자체 (1은 두 번째값)\n",
    "* 슬라이싱은 값 사이 경계선 (1은 첫 번째 값과 두 번째 값 사이) "
   ]
  },
  {
   "cell_type": "markdown",
   "metadata": {},
   "source": [
    "![indexing.png](indexing.png)"
   ]
  },
  {
   "cell_type": "code",
   "execution_count": 6,
   "metadata": {},
   "outputs": [
    {
     "name": "stdout",
     "output_type": "stream",
     "text": [
      "0\n",
      "9\n",
      "[0, 1]\n",
      "[0, 1, 2, 3, 4, 5, 6, 7, 8, 9]\n",
      "[0, 1, 2, 3, 4, 5, 6, 7, 8]\n",
      "[1, 2, 3, 4, 5, 6, 7, 8, 9]\n",
      "[]\n"
     ]
    }
   ],
   "source": [
    "geneids = [x for x in range(10)] # 리스트 컴프리헨션\n",
    "print(geneids[0])\n",
    "print(geneids[-1])\n",
    "print(geneids[0:2])\n",
    "print(geneids[:])\n",
    "print(geneids[:-1])\n",
    "print(geneids[1:])\n",
    "print(geneids[:-10])"
   ]
  },
  {
   "cell_type": "markdown",
   "metadata": {},
   "source": [
    "* 리스트 데이터 삽입 삭제"
   ]
  },
  {
   "cell_type": "code",
   "execution_count": 12,
   "metadata": {},
   "outputs": [
    {
     "name": "stdout",
     "output_type": "stream",
     "text": [
      "[1, 2, 3]\n",
      "[1, 2, 3, 4]\n",
      "length: 4\n",
      "[1, 2, 3, 4, 5]\n",
      "5\n",
      "[1, 2, 3, 4]\n"
     ]
    }
   ],
   "source": [
    "geneids = [1, 2, 3]\n",
    "print(geneids)\n",
    "geneids.append(4)\n",
    "print(geneids)\n",
    "print(\"length: %d\" % len(geneids))\n",
    "geneids[len(geneids):] = [5]\n",
    "print(geneids)\n",
    "print(geneids.pop())\n",
    "print(geneids)"
   ]
  },
  {
   "cell_type": "markdown",
   "metadata": {},
   "source": [
    "## Tuple (튜플)"
   ]
  },
  {
   "cell_type": "markdown",
   "metadata": {},
   "source": [
    "* 리스트와 같은 기능이지만 '(', ')'를 사용하고 원소를 변경할 수 없음  \n",
    "* 리스트보다 빠른 속도, 리스트와 동일한 인덱싱 방법"
   ]
  },
  {
   "cell_type": "code",
   "execution_count": 17,
   "metadata": {},
   "outputs": [
    {
     "name": "stdout",
     "output_type": "stream",
     "text": [
      "(1, 2)\n"
     ]
    }
   ],
   "source": [
    "geneids = (1, 2, 3)\n",
    "print(geneids[0:2])\n",
    "#geneids[0] = 4 ## error"
   ]
  },
  {
   "cell_type": "markdown",
   "metadata": {},
   "source": [
    "* 반복문에서 리스트 또는 튜플 활용"
   ]
  },
  {
   "cell_type": "code",
   "execution_count": 18,
   "metadata": {},
   "outputs": [
    {
     "name": "stdout",
     "output_type": "stream",
     "text": [
      "geneid: 123\n",
      "geneid: 456\n",
      "geneid: 789\n"
     ]
    }
   ],
   "source": [
    "geneids = ['123', '456', '789']\n",
    "for geneid in geneids:\n",
    "    print(\"geneid: %s\" %geneid)\n",
    "    "
   ]
  },
  {
   "cell_type": "markdown",
   "metadata": {},
   "source": [
    "## Dictionary (딕셔너리)"
   ]
  },
  {
   "cell_type": "markdown",
   "metadata": {},
   "source": [
    "* 키(key)와 값(value)을 쌍으로 저장, '{'와 '}'를 사용"
   ]
  },
  {
   "cell_type": "code",
   "execution_count": 19,
   "metadata": {},
   "outputs": [
    {
     "name": "stdout",
     "output_type": "stream",
     "text": [
      "{'A': 0.5}\n",
      "{'A': 0.5, 'B': 1.2}\n",
      "2\n"
     ]
    }
   ],
   "source": [
    "gene_expr = {}\n",
    "gene_expr['A'] = 0.5\n",
    "print(gene_expr)\n",
    "gene_expr['B'] = 1.2\n",
    "print(gene_expr)\n",
    "print(len(gene_expr))"
   ]
  },
  {
   "cell_type": "markdown",
   "metadata": {},
   "source": [
    "* 인덱싱은 '[', ']' 사용, 키 값으로 인덱싱, 정수값 인덱싱 불가"
   ]
  },
  {
   "cell_type": "code",
   "execution_count": 17,
   "metadata": {},
   "outputs": [
    {
     "name": "stdout",
     "output_type": "stream",
     "text": [
      "0.5\n"
     ]
    }
   ],
   "source": [
    "print(gene_expr['A'])\n",
    "## gene_expr[0] # error"
   ]
  },
  {
   "cell_type": "markdown",
   "metadata": {},
   "source": [
    "* 데이터 추가는 key값 value값으로 수행, 삭제는 del 함수 이용"
   ]
  },
  {
   "cell_type": "code",
   "execution_count": 18,
   "metadata": {},
   "outputs": [
    {
     "name": "stdout",
     "output_type": "stream",
     "text": [
      "{'A': 0.5, 'B': 1.2, 'C': 0.3}\n",
      "{'A': 0.5, 'B': 1.2}\n"
     ]
    }
   ],
   "source": [
    "gene_expr['C'] = 0.3\n",
    "print(gene_expr)\n",
    "del gene_expr['C']\n",
    "print(gene_expr)"
   ]
  },
  {
   "cell_type": "markdown",
   "metadata": {},
   "source": [
    "* key 값과 value 값 구하기"
   ]
  },
  {
   "cell_type": "code",
   "execution_count": 20,
   "metadata": {},
   "outputs": [
    {
     "name": "stdout",
     "output_type": "stream",
     "text": [
      "keys: ['A', 'B']\n",
      "values: [0.5, 1.2]\n"
     ]
    }
   ],
   "source": [
    "gene_expr_keys = list(gene_expr.keys())\n",
    "print(\"keys:\", gene_expr_keys)\n",
    "gene_expr_values = list(gene_expr.values())\n",
    "print(\"values:\", gene_expr_values)"
   ]
  },
  {
   "cell_type": "markdown",
   "metadata": {},
   "source": [
    "* in 활용 키 값 탐색"
   ]
  },
  {
   "cell_type": "code",
   "execution_count": 26,
   "metadata": {},
   "outputs": [
    {
     "name": "stdout",
     "output_type": "stream",
     "text": [
      "False\n",
      "False\n",
      "True\n"
     ]
    }
   ],
   "source": [
    "print('D' in gene_expr_keys)\n",
    "print('D' in gene_expr)\n",
    "print('A' in gene_expr)"
   ]
  },
  {
   "cell_type": "markdown",
   "metadata": {},
   "source": [
    "* 반복문에서 딕셔너리 활용 items()"
   ]
  },
  {
   "cell_type": "code",
   "execution_count": 2,
   "metadata": {},
   "outputs": [
    {
     "name": "stdout",
     "output_type": "stream",
     "text": [
      "A expression value is 0.5\n",
      "B expression value is 1.2\n",
      "C expression value is 0.3\n",
      "D expression value is 3.2\n"
     ]
    }
   ],
   "source": [
    "gene_expr = {'A':0.5, 'B':1.2, 'C':0.3, 'D':3.2}\n",
    "for geneid, expval in gene_expr.items():\n",
    "    print(\"%s expression value is %s\" %(geneid, expval))\n",
    "    "
   ]
  },
  {
   "cell_type": "markdown",
   "metadata": {},
   "source": [
    "# 파이썬 함수, 모듈, 클래스"
   ]
  },
  {
   "cell_type": "markdown",
   "metadata": {},
   "source": [
    "## 함수\n",
    "* 리스트 값 평균 리턴하는 함수"
   ]
  },
  {
   "cell_type": "code",
   "execution_count": 20,
   "metadata": {},
   "outputs": [
    {
     "name": "stdout",
     "output_type": "stream",
     "text": [
      "5.5\n"
     ]
    }
   ],
   "source": [
    "def average(input):\n",
    "    if len(input) == 0:\n",
    "        return None\n",
    "    return sum(input) / len(input)\n",
    "\n",
    "x = [1,2,3,4,5,6,7,8,9,10]\n",
    "print(average(x))"
   ]
  },
  {
   "cell_type": "markdown",
   "metadata": {},
   "source": [
    "## 모듈\n",
    "* 위 average 함수를 mystat.py 라는 이름의 파일로 저장, 모듈로 활용"
   ]
  },
  {
   "cell_type": "code",
   "execution_count": 28,
   "metadata": {},
   "outputs": [
    {
     "name": "stdout",
     "output_type": "stream",
     "text": [
      "4.5\n"
     ]
    }
   ],
   "source": [
    "import mystat \n",
    "x = list(range(10))\n",
    "print(mystat.average(x))"
   ]
  },
  {
   "cell_type": "markdown",
   "metadata": {},
   "source": [
    "* 모듈 직접 실행시 모듈 내 test 코드 실행 (__name__ == __main__, True)"
   ]
  },
  {
   "cell_type": "code",
   "execution_count": 21,
   "metadata": {},
   "outputs": [
    {
     "name": "stdout",
     "output_type": "stream",
     "text": [
      "average function is working well\n"
     ]
    }
   ],
   "source": [
    "%run mystat"
   ]
  },
  {
   "cell_type": "markdown",
   "metadata": {},
   "source": [
    "* 모듈 임포트"
   ]
  },
  {
   "cell_type": "code",
   "execution_count": 22,
   "metadata": {},
   "outputs": [
    {
     "data": {
      "text/plain": [
       "'/home/bioengml'"
      ]
     },
     "execution_count": 22,
     "metadata": {},
     "output_type": "execute_result"
    }
   ],
   "source": [
    "import os\n",
    "os.getcwd()"
   ]
  },
  {
   "cell_type": "code",
   "execution_count": 23,
   "metadata": {},
   "outputs": [
    {
     "data": {
      "text/plain": [
       "'/home/bioengml'"
      ]
     },
     "execution_count": 23,
     "metadata": {},
     "output_type": "execute_result"
    }
   ],
   "source": [
    "from os import getcwd\n",
    "getcwd()"
   ]
  },
  {
   "cell_type": "markdown",
   "metadata": {},
   "source": [
    "## 클래스\n",
    "* Gene, Strain class 생성 연습\n",
    "* Gene attribute: name, chromosomal location, length  \n",
    "* Strain attribute (변수): name, length of chromosome  \n",
    "* Strain method (함수): compute average length of the genes"
   ]
  },
  {
   "cell_type": "code",
   "execution_count": 24,
   "metadata": {},
   "outputs": [],
   "source": [
    "import statistics\n",
    "class ORF:\n",
    "    def __init__(self, location, length, seq):\n",
    "        self.location = location\n",
    "        self.length = length\n",
    "        self.sequence = seq\n",
    "\n",
    "class Strain:\n",
    "    def __init__(self, name, chrlength):\n",
    "        self.name = name\n",
    "        self.chr_length = chrlength\n",
    "        self.orfs = []\n",
    "    def add_orf(self, location, length, seq):\n",
    "        self.orfs.append(ORF(location, length, seq))\n",
    "    def gene_average(self):\n",
    "        return statistics.mean([s.length for s in self.orfs])\n"
   ]
  },
  {
   "cell_type": "code",
   "execution_count": 25,
   "metadata": {},
   "outputs": [],
   "source": [
    "ecoli = Strain(\"ecoli\", 5000000)\n",
    "ecoli.add_orf(1, 1000, \"ATG\")\n",
    "ecoli.add_orf(1001, 2000, \"CCT\")\n",
    "ecoli.add_orf(3001, 3000, \"ATC\")"
   ]
  },
  {
   "cell_type": "code",
   "execution_count": 26,
   "metadata": {},
   "outputs": [
    {
     "name": "stdout",
     "output_type": "stream",
     "text": [
      "[1, 1001, 3001]\n",
      "['ATG', 'CCT', 'ATC']\n"
     ]
    }
   ],
   "source": [
    "print([g.location for g in ecoli.orfs])\n",
    "print([g.sequence for g in ecoli.orfs])"
   ]
  },
  {
   "cell_type": "markdown",
   "metadata": {},
   "source": [
    "* 상속"
   ]
  },
  {
   "cell_type": "code",
   "execution_count": 27,
   "metadata": {},
   "outputs": [],
   "source": [
    "class Gene(ORF):\n",
    "    def add_protein(self, prot_name, prot_seq):\n",
    "        self.prot_name = prot_name\n",
    "        self.prot_sequence = prot_seq\n",
    "        "
   ]
  },
  {
   "cell_type": "code",
   "execution_count": 28,
   "metadata": {},
   "outputs": [
    {
     "name": "stdout",
     "output_type": "stream",
     "text": [
      "1\n",
      "myprotein\n"
     ]
    }
   ],
   "source": [
    "gene1 = Gene(1, 1000, \"ATG\")\n",
    "print(gene1.location)\n",
    "gene1.add_protein(\"myprotein\", \"M\")\n",
    "print(gene1.prot_name)"
   ]
  },
  {
   "cell_type": "markdown",
   "metadata": {},
   "source": [
    "# 파일 읽기 쓰기"
   ]
  },
  {
   "cell_type": "code",
   "execution_count": 30,
   "metadata": {},
   "outputs": [
    {
     "name": "stdout",
     "output_type": "stream",
     "text": [
      "# 한국생물공학회 교육워크샵 \n",
      "12월 한국생물공학회 교육워크샵의 [생물공학 기계학습] 실습 관련 사이트 입니다. \n"
     ]
    }
   ],
   "source": [
    "f = open(\"README.md\", 'rt')\n",
    "lines = f.readlines()\n",
    "for line in lines:\n",
    "    nline = line.split('\\n')[0]\n",
    "    print(nline)"
   ]
  },
  {
   "cell_type": "code",
   "execution_count": 31,
   "metadata": {},
   "outputs": [],
   "source": [
    "f = open(\"write_test.txt\", 'wt')\n",
    "f.write('gene1;')\n",
    "f.write('1;')\n",
    "f.write('1000')\n",
    "f.close()"
   ]
  },
  {
   "cell_type": "code",
   "execution_count": 32,
   "metadata": {},
   "outputs": [
    {
     "name": "stdout",
     "output_type": "stream",
     "text": [
      "['gene1', '1', '1000']\n"
     ]
    }
   ],
   "source": [
    "f = open(\"write_test.txt\", 'rt')\n",
    "lines = f.readlines()\n",
    "for line in lines:\n",
    "    nline = line.split(';')\n",
    "    print(nline)"
   ]
  },
  {
   "cell_type": "markdown",
   "metadata": {},
   "source": [
    "# Numpy 자료구조 ndarray"
   ]
  },
  {
   "cell_type": "markdown",
   "metadata": {},
   "source": [
    "* 행렬이나 다차원 배열 처리용 파이썬 라이브러리\n",
    "* 같은 타입의 데이터만 허용\n",
    "* 리스트에 비해 20배 이상 빠른 속도"
   ]
  },
  {
   "cell_type": "markdown",
   "metadata": {},
   "source": [
    "![from https://www.oreilly.com/library/view/elegant-scipy/9781491922927/ch01.html](numpy.PNG)  "
   ]
  },
  {
   "cell_type": "code",
   "execution_count": 1,
   "metadata": {},
   "outputs": [],
   "source": [
    "import numpy as np"
   ]
  },
  {
   "cell_type": "code",
   "execution_count": 2,
   "metadata": {},
   "outputs": [
    {
     "name": "stdout",
     "output_type": "stream",
     "text": [
      "[1, 2, 3]\n",
      "<class 'list'>\n",
      "[1 2 3]\n",
      "int64\n",
      "(3,)\n",
      "<class 'numpy.ndarray'>\n"
     ]
    }
   ],
   "source": [
    "arr = [1, 2, 3]\n",
    "print(arr)\n",
    "print(type(arr))\n",
    "\n",
    "a = np.array([1,2,3])\n",
    "print(a)\n",
    "print(a.dtype)\n",
    "print(a.shape)\n",
    "print(type(a))"
   ]
  },
  {
   "cell_type": "markdown",
   "metadata": {},
   "source": [
    "* numpy 자료형\n",
    " * 부호가 있는 정수 int(8, 16, 32, 64)\n",
    " * 부호가 없는 정수 uint(8 ,16, 32, 54)\n",
    " * 실수 float(16, 32, 64, 128) \n",
    " * 복소수 complex(64, 128, 256)\n",
    " * 불리언 bool\n",
    " * 문자열 string_\n",
    " * 파이썬 오프젝트 object\n",
    " * 유니코드 unicode_"
   ]
  },
  {
   "cell_type": "markdown",
   "metadata": {},
   "source": [
    "* np.zeros(), np.ones(), np.arange()\n",
    "* 행렬 연산 지원"
   ]
  },
  {
   "cell_type": "code",
   "execution_count": 35,
   "metadata": {},
   "outputs": [
    {
     "name": "stdout",
     "output_type": "stream",
     "text": [
      "[[1 2 3]\n",
      " [4 5 6]\n",
      " [7 8 9]]\n",
      "[[1 1 1 1]\n",
      " [1 1 1 1]\n",
      " [1 1 1 1]]\n",
      "[[1 1 1 1]\n",
      " [1 1 1 1]\n",
      " [1 1 1 1]]\n",
      "[[2 2 2 2]\n",
      " [2 2 2 2]\n",
      " [2 2 2 2]]\n",
      "[[0 0 0 0]\n",
      " [0 0 0 0]\n",
      " [0 0 0 0]]\n"
     ]
    }
   ],
   "source": [
    "a = np.arange(1, 10).reshape(3,3)\n",
    "print(a)\n",
    "a = np.ones((3,4), dtype=np.int16)\n",
    "b = np.ones((3,4), dtype=np.int16)\n",
    "print(a)\n",
    "print(b)\n",
    "print(a+b)\n",
    "print(a-b)"
   ]
  },
  {
   "cell_type": "markdown",
   "metadata": {},
   "source": [
    "* numpy 함수\n",
    " * np.sqrt()\n",
    " * np.log()\n",
    " * np.square()\n",
    " * np.log()\n",
    " * np.ceil()\n",
    " * np.floor()\n",
    " * np.isnan()\n",
    " * np.sum()\n",
    " * np.mean()\n",
    " * np.std()\n",
    " * np.min()"
   ]
  },
  {
   "cell_type": "markdown",
   "metadata": {},
   "source": [
    "# Pandas 자료구조 Series, DataFrame"
   ]
  },
  {
   "cell_type": "markdown",
   "metadata": {},
   "source": [
    "* Pandas의 Series는 1차원, DataFrame은 2차원 데이터를 다루는 자료구조\n",
    "* 리스트와 딕셔너리의 조합형\n",
    "* 숫자형, 문자형, 범주형 등의 다양한 데이터 입력 가능"
   ]
  },
  {
   "cell_type": "code",
   "execution_count": 36,
   "metadata": {},
   "outputs": [],
   "source": [
    "from pandas import Series, DataFrame"
   ]
  },
  {
   "cell_type": "code",
   "execution_count": 37,
   "metadata": {},
   "outputs": [
    {
     "name": "stdout",
     "output_type": "stream",
     "text": [
      "0    0.1\n",
      "1    0.2\n",
      "2    1.4\n",
      "3    0.6\n",
      "4    1.1\n",
      "dtype: float64\n"
     ]
    }
   ],
   "source": [
    "genes = Series([0.1, 0.2, 1.4, 0.6, 1.1])\n",
    "print(genes)"
   ]
  },
  {
   "cell_type": "code",
   "execution_count": 38,
   "metadata": {},
   "outputs": [
    {
     "name": "stdout",
     "output_type": "stream",
     "text": [
      "A    0.1\n",
      "B    0.2\n",
      "C    1.4\n",
      "D    0.6\n",
      "E    1.1\n",
      "dtype: float64\n"
     ]
    }
   ],
   "source": [
    "genes = Series([0.1, 0.2, 1.4, 0.6, 1.1], index=['A', 'B', 'C', 'D', 'E'])\n",
    "print(genes)"
   ]
  },
  {
   "cell_type": "markdown",
   "metadata": {},
   "source": [
    "* 인덱스 자동 정렬, 행렬 연산"
   ]
  },
  {
   "cell_type": "code",
   "execution_count": 39,
   "metadata": {},
   "outputs": [
    {
     "data": {
      "text/plain": [
       "A    1.2\n",
       "B    0.3\n",
       "C    1.6\n",
       "D    2.0\n",
       "E    1.7\n",
       "dtype: float64"
      ]
     },
     "execution_count": 39,
     "metadata": {},
     "output_type": "execute_result"
    }
   ],
   "source": [
    "genes1 = Series([0.1, 0.2, 1.4, 0.6, 1.1], index=['A', 'B', 'C', 'D', 'E'])\n",
    "genes2 = Series([0.1, 0.2, 1.4, 0.6, 1.1], index=['B', 'C', 'D', 'E', 'A'])\n",
    "genes1 + genes2"
   ]
  },
  {
   "cell_type": "code",
   "execution_count": 40,
   "metadata": {},
   "outputs": [
    {
     "name": "stdout",
     "output_type": "stream",
     "text": [
      "B    0.1\n",
      "C    0.2\n",
      "E    0.6\n",
      "A    1.1\n",
      "D    1.4\n",
      "dtype: float64\n",
      "A    1.1\n",
      "B    0.1\n",
      "C    0.2\n",
      "D    1.4\n",
      "E    0.6\n",
      "dtype: float64\n"
     ]
    }
   ],
   "source": [
    "print(genes2.sort_values())\n",
    "print(genes2.sort_index())"
   ]
  },
  {
   "cell_type": "markdown",
   "metadata": {},
   "source": [
    "* DataFrame 생성은 '{', '}' 이용\n",
    "* DataFrame은 Series의 집합"
   ]
  },
  {
   "cell_type": "code",
   "execution_count": 41,
   "metadata": {},
   "outputs": [
    {
     "name": "stdout",
     "output_type": "stream",
     "text": [
      "{'A': [0.5, 0.1, 0.3], 'B': [0.8, 0.9, 0.4]}\n",
      "     A    B\n",
      "0  0.5  0.8\n",
      "1  0.1  0.9\n",
      "2  0.3  0.4\n",
      "0    0.5\n",
      "1    0.1\n",
      "2    0.3\n",
      "Name: A, dtype: float64\n",
      "<class 'pandas.core.series.Series'>\n"
     ]
    }
   ],
   "source": [
    "genes = {'A': [0.5, 0.1, 0.3],\n",
    "         'B': [0.8, 0.9, 0.4]}\n",
    "print(genes)\n",
    "genes_df = DataFrame(genes)\n",
    "print(genes_df)\n",
    "print(genes_df['A'])\n",
    "print(type(genes_df['A']))"
   ]
  },
  {
   "cell_type": "code",
   "execution_count": 42,
   "metadata": {},
   "outputs": [
    {
     "name": "stdout",
     "output_type": "stream",
     "text": [
      "        B    A\n",
      "day1  0.8  0.5\n",
      "day2  0.9  0.1\n",
      "day3  0.4  0.3\n"
     ]
    }
   ],
   "source": [
    "genes = {'A': [0.5, 0.1, 0.3],\n",
    "         'B': [0.8, 0.9, 0.4]}\n",
    "genes_df = DataFrame(genes, columns=['B', 'A'], index=['day1', 'day2', 'day3'])\n",
    "print(genes_df)"
   ]
  },
  {
   "cell_type": "code",
   "execution_count": 43,
   "metadata": {},
   "outputs": [
    {
     "name": "stdout",
     "output_type": "stream",
     "text": [
      "day1    0.5\n",
      "day2    0.1\n",
      "day3    0.3\n",
      "Name: A, dtype: float64\n",
      "B    0.8\n",
      "A    0.5\n",
      "Name: day1, dtype: float64\n",
      "Index(['day1', 'day2', 'day3'], dtype='object')\n",
      "['B', 'A']\n"
     ]
    }
   ],
   "source": [
    "print(genes_df['A'])\n",
    "print(genes_df.loc['day1'])\n",
    "print(genes_df.index)\n",
    "print(list(genes_df.columns))"
   ]
  },
  {
   "cell_type": "markdown",
   "metadata": {},
   "source": [
    "# 다차원 numpy 자료구조 텐서 (Tensor)"
   ]
  },
  {
   "cell_type": "markdown",
   "metadata": {},
   "source": [
    "* 딥러닝 프레임워크 (라이브러리 모듈 묶어놓은 패키지) \n",
    " * tensorflow - 구글 개발, 가장 높은 인기\n",
    " * theano - python 기반 최초 딥러닝 라이브라리 \n",
    " * PyTorch - 페이스북 개발, 낮은 진입 장벽 \n",
    " * CNTK (Cognitive Toolkit) - Microsoft 개발, 높음 성능\n",
    " * 참고로 Keras는 tensorflow, theano, CNTK를 백엔드엔진으로 사용해서 동작하는 고수준 라이브러리"
   ]
  },
  {
   "cell_type": "markdown",
   "metadata": {},
   "source": [
    "![](framework_layer.png)"
   ]
  },
  {
   "cell_type": "markdown",
   "metadata": {},
   "source": [
    "* 텐서는 수치형 (float32, uint8, float64) 데이터를 주로 다룸\n",
    "* 임의의 차원 개수를 가지는 행렬의 일반화된 모습\n",
    "* 0D 텐서는 스칼라, 1D 텐서는 벡터, 2D 텐서는 행렬, ...\n",
    "* 랭크(ndim), 크기(shape), 타입(dtype) 속성이 있음"
   ]
  },
  {
   "cell_type": "code",
   "execution_count": 44,
   "metadata": {},
   "outputs": [
    {
     "name": "stdout",
     "output_type": "stream",
     "text": [
      "12\n",
      "0\n"
     ]
    }
   ],
   "source": [
    "import numpy as np\n",
    "x = np.array(12)\n",
    "print(x)\n",
    "print(x.ndim)"
   ]
  },
  {
   "cell_type": "code",
   "execution_count": 45,
   "metadata": {},
   "outputs": [
    {
     "name": "stdout",
     "output_type": "stream",
     "text": [
      "1\n"
     ]
    }
   ],
   "source": [
    "x = np.array([1, 2, 3, 4, 5])\n",
    "print(x.ndim)"
   ]
  },
  {
   "cell_type": "code",
   "execution_count": 46,
   "metadata": {},
   "outputs": [
    {
     "name": "stdout",
     "output_type": "stream",
     "text": [
      "2\n"
     ]
    }
   ],
   "source": [
    "x = np.array([[1,2,3,4,5],\n",
    "             [6,7,8,9,10],\n",
    "             [11,12,13,14,15]])\n",
    "print(x.ndim)"
   ]
  },
  {
   "cell_type": "code",
   "execution_count": 47,
   "metadata": {},
   "outputs": [],
   "source": [
    "x = np.array([[[1,2,3], \n",
    "               [2,3,4]],\n",
    "              [[5,6,7],\n",
    "               [8,9,10]],\n",
    "              [[11,12,13],\n",
    "               [14,15,16]]])"
   ]
  },
  {
   "cell_type": "code",
   "execution_count": 48,
   "metadata": {},
   "outputs": [
    {
     "data": {
      "text/plain": [
       "(3, 2, 3)"
      ]
     },
     "execution_count": 48,
     "metadata": {},
     "output_type": "execute_result"
    }
   ],
   "source": [
    "x.shape"
   ]
  },
  {
   "cell_type": "code",
   "execution_count": 49,
   "metadata": {},
   "outputs": [
    {
     "name": "stderr",
     "output_type": "stream",
     "text": [
      "Using TensorFlow backend.\n"
     ]
    },
    {
     "name": "stdout",
     "output_type": "stream",
     "text": [
      "Downloading data from https://s3.amazonaws.com/img-datasets/mnist.npz\n",
      "11493376/11490434 [==============================] - 8s 1us/step\n"
     ]
    }
   ],
   "source": [
    "from keras.datasets import mnist\n",
    "(train_images, train_labels), (test_images, test_labels) = mnist.load_data()"
   ]
  },
  {
   "cell_type": "code",
   "execution_count": 50,
   "metadata": {},
   "outputs": [
    {
     "name": "stdout",
     "output_type": "stream",
     "text": [
      "(60000, 28, 28)\n",
      "(60000,)\n",
      "uint8\n"
     ]
    }
   ],
   "source": [
    "print(train_images.shape)\n",
    "print(train_labels.shape)\n",
    "print(train_images.dtype)"
   ]
  },
  {
   "cell_type": "code",
   "execution_count": 51,
   "metadata": {},
   "outputs": [
    {
     "name": "stdout",
     "output_type": "stream",
     "text": [
      "(28, 28)\n"
     ]
    },
    {
     "data": {
      "image/png": "[encoded data removed]",
      "text/plain": [
       "<Figure size 432x288 with 1 Axes>"
      ]
     },
     "metadata": {},
     "output_type": "display_data"
    }
   ],
   "source": [
    "digit = train_images[4]\n",
    "print(digit.shape)\n",
    "\n",
    "import matplotlib.pyplot as plt\n",
    "plt.imshow(digit, cmap=plt.cm.binary)\n",
    "plt.show()"
   ]
  },
  {
   "cell_type": "code",
   "execution_count": 52,
   "metadata": {},
   "outputs": [
    {
     "data": {
      "image/png": "[encoded data removed]",
      "text/plain": [
       "<Figure size 432x288 with 1 Axes>"
      ]
     },
     "metadata": {},
     "output_type": "display_data"
    }
   ],
   "source": [
    "my_slice = train_images[4,7:-7,7:-7]\n",
    "plt.imshow(my_slice, cmap=plt.cm.binary)\n",
    "plt.show()"
   ]
  },
  {
   "cell_type": "markdown",
   "metadata": {},
   "source": [
    "* 배치 (batch) - 훈련 데이터를 나누어 입력\n",
    "* 에폭 (epoch) - 전체 훈련 데이터에 수행되는 각 반복"
   ]
  },
  {
   "cell_type": "code",
   "execution_count": 53,
   "metadata": {},
   "outputs": [],
   "source": [
    "batch1 = train_images[:128]\n",
    "batch2 = train_images[129:256]\n",
    "#..."
   ]
  },
  {
   "cell_type": "markdown",
   "metadata": {},
   "source": [
    "# Neural Network 예제"
   ]
  },
  {
   "cell_type": "markdown",
   "metadata": {},
   "source": [
    "* 유명 예제 중 하나인 MNIST 예제\n",
    "* 흑백 손글씨 숫자 이미지 (28x28픽셀)을 10개 범주에서 (0 부터 9까지)로 분류하는 문제\n",
    "* 미국 국립표준기술연구소 (NIST)에서 수집한 60000개 훈련 이미지와 1만개 테스트 이미지 구성"
   ]
  },
  {
   "cell_type": "markdown",
   "metadata": {},
   "source": [
    "![\"y_mnist\"](y_mnist.png)"
   ]
  },
  {
   "cell_type": "code",
   "execution_count": 11,
   "metadata": {},
   "outputs": [],
   "source": [
    "from keras.datasets import mnist\n",
    "(train_images, train_labels), (test_images, test_labels) = mnist.load_data()"
   ]
  },
  {
   "cell_type": "code",
   "execution_count": 12,
   "metadata": {},
   "outputs": [
    {
     "name": "stdout",
     "output_type": "stream",
     "text": [
      "(60000, 28, 28)\n",
      "(60000,)\n",
      "(10000, 28, 28)\n",
      "(10000,)\n"
     ]
    }
   ],
   "source": [
    "print(train_images.shape)\n",
    "print(train_labels.shape)\n",
    "print(test_images.shape)\n",
    "print(test_labels.shape)"
   ]
  },
  {
   "cell_type": "markdown",
   "metadata": {},
   "source": [
    "* 배열 변환"
   ]
  },
  {
   "cell_type": "code",
   "execution_count": 13,
   "metadata": {},
   "outputs": [],
   "source": [
    "train_images = train_images.reshape((60000, 28*28))\n",
    "train_images = train_images.astype('float32')/255\n",
    "test_images = test_images.reshape((10000, 28*28))\n",
    "test_images = test_images.astype('float32')/255"
   ]
  },
  {
   "cell_type": "code",
   "execution_count": 14,
   "metadata": {},
   "outputs": [
    {
     "name": "stdout",
     "output_type": "stream",
     "text": [
      "(60000, 784)\n",
      "(60000,)\n",
      "(10000, 784)\n",
      "(10000,)\n"
     ]
    }
   ],
   "source": [
    "print(train_images.shape)\n",
    "print(train_labels.shape)\n",
    "print(test_images.shape)\n",
    "print(test_labels.shape)"
   ]
  },
  {
   "cell_type": "code",
   "execution_count": 15,
   "metadata": {},
   "outputs": [
    {
     "name": "stdout",
     "output_type": "stream",
     "text": [
      "[7 2 1 0 4 1 4 9 5 9]\n"
     ]
    }
   ],
   "source": [
    "print(test_labels[:10])"
   ]
  },
  {
   "cell_type": "markdown",
   "metadata": {},
   "source": [
    "* 신경망"
   ]
  },
  {
   "cell_type": "code",
   "execution_count": 16,
   "metadata": {},
   "outputs": [],
   "source": [
    "from keras import models\n",
    "from keras import layers\n",
    "from keras.utils import to_categorical\n",
    "\n",
    "network = models.Sequential()\n",
    "network.add(layers.Dense(512, activation='relu', input_shape=(28*28,)))\n",
    "network.add(layers.Dense(10, activation='softmax'))\n",
    "\n",
    "network.compile(optimizer='rmsprop', loss='categorical_crossentropy', metrics=['accuracy'])\n",
    "train_labels = to_categorical(train_labels)\n",
    "test_labels = to_categorical(test_labels)"
   ]
  },
  {
   "cell_type": "code",
   "execution_count": 17,
   "metadata": {},
   "outputs": [
    {
     "name": "stdout",
     "output_type": "stream",
     "text": [
      "(10000, 10)\n",
      "[[0. 0. 0. 0. 0. 0. 0. 1. 0. 0.]\n",
      " [0. 0. 1. 0. 0. 0. 0. 0. 0. 0.]\n",
      " [0. 1. 0. 0. 0. 0. 0. 0. 0. 0.]\n",
      " [1. 0. 0. 0. 0. 0. 0. 0. 0. 0.]\n",
      " [0. 0. 0. 0. 1. 0. 0. 0. 0. 0.]\n",
      " [0. 1. 0. 0. 0. 0. 0. 0. 0. 0.]\n",
      " [0. 0. 0. 0. 1. 0. 0. 0. 0. 0.]\n",
      " [0. 0. 0. 0. 0. 0. 0. 0. 0. 1.]\n",
      " [0. 0. 0. 0. 0. 1. 0. 0. 0. 0.]\n",
      " [0. 0. 0. 0. 0. 0. 0. 0. 0. 1.]]\n"
     ]
    }
   ],
   "source": [
    "print(test_labels.shape)\n",
    "print(test_labels[:10,])"
   ]
  },
  {
   "cell_type": "code",
   "execution_count": 18,
   "metadata": {},
   "outputs": [
    {
     "name": "stdout",
     "output_type": "stream",
     "text": [
      "Epoch 1/6\n",
      "60000/60000 [==============================] - 8s 131us/step - loss: 0.2694 - acc: 0.9215\n",
      "Epoch 2/6\n",
      "60000/60000 [==============================] - 7s 122us/step - loss: 0.1115 - acc: 0.9668\n",
      "Epoch 3/6\n",
      "60000/60000 [==============================] - 6s 107us/step - loss: 0.0741 - acc: 0.9776\n",
      "Epoch 4/6\n",
      "60000/60000 [==============================] - 7s 109us/step - loss: 0.0534 - acc: 0.9841\n",
      "Epoch 5/6\n",
      "60000/60000 [==============================] - 8s 136us/step - loss: 0.0410 - acc: 0.9880\n",
      "Epoch 6/6\n",
      "60000/60000 [==============================] - 8s 135us/step - loss: 0.0312 - acc: 0.9902\n"
     ]
    }
   ],
   "source": [
    "history = network.fit(train_images, train_labels, epochs=6, batch_size=128)"
   ]
  },
  {
   "cell_type": "code",
   "execution_count": 93,
   "metadata": {},
   "outputs": [
    {
     "name": "stdout",
     "output_type": "stream",
     "text": [
      "dict_keys(['loss', 'acc'])\n"
     ]
    },
    {
     "data": {
      "image/png": "[encoded data removed]",
      "text/plain": [
       "<Figure size 216x216 with 1 Axes>"
      ]
     },
     "metadata": {},
     "output_type": "display_data"
    }
   ],
   "source": [
    "import matplotlib.pyplot as plt\n",
    "\n",
    "history_dict = history.history\n",
    "print(history_dict.keys())\n",
    "loss =history_dict['loss']\n",
    "acc = history_dict['acc']\n",
    "epochs = range(1, len(loss)+1)\n",
    "plt.rcParams[\"figure.figsize\"] = (3,3)\n",
    "plt.plot(epochs, loss, 'bo')\n",
    "plt.show()"
   ]
  },
  {
   "cell_type": "markdown",
   "metadata": {},
   "source": [
    "* 테스트 세트에서 모델 작동 확인"
   ]
  },
  {
   "cell_type": "code",
   "execution_count": 87,
   "metadata": {},
   "outputs": [
    {
     "name": "stdout",
     "output_type": "stream",
     "text": [
      "(10000, 10)\n"
     ]
    }
   ],
   "source": [
    "results = network.predict(test_images)\n",
    "print(results.shape)"
   ]
  },
  {
   "cell_type": "code",
   "execution_count": 90,
   "metadata": {},
   "outputs": [
    {
     "name": "stdout",
     "output_type": "stream",
     "text": [
      "[0.0, 0.0, 1.0, 0.0, 0.0, 0.0, 0.0, 0.0, 0.0, 0.0]\n"
     ]
    },
    {
     "data": {
      "image/png": "[encoded data removed]",
      "text/plain": [
       "<Figure size 216x216 with 1 Axes>"
      ]
     },
     "metadata": {},
     "output_type": "display_data"
    }
   ],
   "source": [
    "import matplotlib.pyplot as plt\n",
    "plt.rcParams[\"figure.figsize\"] = (3,3)\n",
    "print([round(x) for x in list(results[1,])])\n",
    "plt.plot(results[1,], \"b\")\n",
    "plt.plot(results[2,], \"r\")\n",
    "plt.show()"
   ]
  },
  {
   "cell_type": "code",
   "execution_count": 91,
   "metadata": {},
   "outputs": [
    {
     "data": {
      "image/png": "[encoded data removed]",
      "text/plain": [
       "<Figure size 216x216 with 1 Axes>"
      ]
     },
     "metadata": {},
     "output_type": "display_data"
    },
    {
     "name": "stdout",
     "output_type": "stream",
     "text": [
      "[0. 0. 1. 0. 0. 0. 0. 0. 0. 0.]\n"
     ]
    }
   ],
   "source": [
    "plt.plot(test_labels[1,], \"b\")\n",
    "plt.plot(test_labels[2,], \"r\")\n",
    "plt.show()\n",
    "print(test_labels[1,])"
   ]
  },
  {
   "cell_type": "code",
   "execution_count": 23,
   "metadata": {},
   "outputs": [
    {
     "name": "stdout",
     "output_type": "stream",
     "text": [
      "10000/10000 [==============================] - 1s 84us/step\n",
      "[0.062462628302245866, 0.9827]\n"
     ]
    }
   ],
   "source": [
    "results = network.evaluate(test_images, test_labels)\n",
    "print(results)"
   ]
  },
  {
   "cell_type": "markdown",
   "metadata": {},
   "source": [
    "# Biopython - Sequence objects"
   ]
  },
  {
   "cell_type": "code",
   "execution_count": 24,
   "metadata": {},
   "outputs": [
    {
     "data": {
      "text/plain": [
       "Seq('AGTACACTGGT', IUPACUnambiguousDNA())"
      ]
     },
     "execution_count": 24,
     "metadata": {},
     "output_type": "execute_result"
    }
   ],
   "source": [
    "from Bio.Seq import Seq\n",
    "from Bio.Alphabet import IUPAC\n",
    "my_seq = Seq(\"AGTACACTGGT\", IUPAC.unambiguous_dna)\n",
    "my_seq"
   ]
  },
  {
   "cell_type": "code",
   "execution_count": 25,
   "metadata": {},
   "outputs": [
    {
     "name": "stdout",
     "output_type": "stream",
     "text": [
      "0 A \n",
      "1 G \n",
      "2 T \n",
      "3 A \n",
      "4 C \n",
      "5 A \n",
      "6 C \n",
      "7 T \n",
      "8 G \n",
      "9 G \n",
      "10 T \n"
     ]
    }
   ],
   "source": [
    "for index, letter in enumerate(my_seq):\n",
    "    print(\"%i %s \" % (index, letter))"
   ]
  },
  {
   "cell_type": "code",
   "execution_count": 26,
   "metadata": {},
   "outputs": [
    {
     "name": "stdout",
     "output_type": "stream",
     "text": [
      "(0, 1)\n",
      "(1, 4)\n",
      "(2, 5)\n",
      "(3, 7)\n",
      "(4, 8)\n"
     ]
    }
   ],
   "source": [
    "x = [1, 4, 5, 7, 8]\n",
    "for i in enumerate(x):\n",
    "    print(i)"
   ]
  },
  {
   "cell_type": "code",
   "execution_count": 27,
   "metadata": {},
   "outputs": [
    {
     "name": "stdout",
     "output_type": "stream",
     "text": [
      "AGTACACTGGT\n",
      "AGT\n",
      "ATCCGT\n",
      "AGTACACTGGT\n",
      "AGTACACTGGTATG\n",
      "False\n",
      "True\n",
      "agtacactggt\n",
      "AGTACACTGGT\n",
      "TCATGTGACCA\n",
      "ACCAGTGTACT\n"
     ]
    }
   ],
   "source": [
    "print(my_seq)\n",
    "print(my_seq[0:3])\n",
    "print(my_seq[0::2])\n",
    "print(str(my_seq))\n",
    "print(my_seq + \"ATG\")\n",
    "print(my_seq==\"ATG\")\n",
    "print(\"AGT\" in my_seq)\n",
    "my_seq_low = my_seq.lower()\n",
    "print(my_seq_low)\n",
    "print(my_seq_low.upper())\n",
    "print(my_seq.complement())\n",
    "print(my_seq.reverse_complement())"
   ]
  },
  {
   "cell_type": "code",
   "execution_count": 29,
   "metadata": {},
   "outputs": [
    {
     "name": "stdout",
     "output_type": "stream",
     "text": [
      "AGUACACUGGU\n",
      "STL\n",
      "STL\n"
     ]
    }
   ],
   "source": [
    "mrna = my_seq.transcribe()\n",
    "print(mrna)\n",
    "prot = mrna.translate() ## truncated \n",
    "print(prot) \n",
    "print(my_seq.translate())"
   ]
  },
  {
   "cell_type": "code",
   "execution_count": 30,
   "metadata": {},
   "outputs": [
    {
     "name": "stdout",
     "output_type": "stream",
     "text": [
      "Table 1 Standard, SGC0\n",
      "\n",
      "  |  T      |  C      |  A      |  G      |\n",
      "--+---------+---------+---------+---------+--\n",
      "T | TTT F   | TCT S   | TAT Y   | TGT C   | T\n",
      "T | TTC F   | TCC S   | TAC Y   | TGC C   | C\n",
      "T | TTA L   | TCA S   | TAA Stop| TGA Stop| A\n",
      "T | TTG L(s)| TCG S   | TAG Stop| TGG W   | G\n",
      "--+---------+---------+---------+---------+--\n",
      "C | CTT L   | CCT P   | CAT H   | CGT R   | T\n",
      "C | CTC L   | CCC P   | CAC H   | CGC R   | C\n",
      "C | CTA L   | CCA P   | CAA Q   | CGA R   | A\n",
      "C | CTG L(s)| CCG P   | CAG Q   | CGG R   | G\n",
      "--+---------+---------+---------+---------+--\n",
      "A | ATT I   | ACT T   | AAT N   | AGT S   | T\n",
      "A | ATC I   | ACC T   | AAC N   | AGC S   | C\n",
      "A | ATA I   | ACA T   | AAA K   | AGA R   | A\n",
      "A | ATG M(s)| ACG T   | AAG K   | AGG R   | G\n",
      "--+---------+---------+---------+---------+--\n",
      "G | GTT V   | GCT A   | GAT D   | GGT G   | T\n",
      "G | GTC V   | GCC A   | GAC D   | GGC G   | C\n",
      "G | GTA V   | GCA A   | GAA E   | GGA G   | A\n",
      "G | GTG V   | GCG A   | GAG E   | GGG G   | G\n",
      "--+---------+---------+---------+---------+--\n",
      "['TTG', 'CTG', 'ATG']\n",
      "['TAA', 'TAG', 'TGA']\n"
     ]
    }
   ],
   "source": [
    "from Bio.Data import CodonTable\n",
    "standard_table = CodonTable.unambiguous_dna_by_id[1]\n",
    "print(standard_table)\n",
    "print(standard_table.start_codons)\n",
    "print(standard_table.stop_codons)"
   ]
  },
  {
   "cell_type": "markdown",
   "metadata": {},
   "source": [
    "# biopython - SeqRecord"
   ]
  },
  {
   "cell_type": "markdown",
   "metadata": {},
   "source": [
    "* Sequence annotation objects\n",
    "* 특정 서열의 identifier나 feature 정보 포함"
   ]
  },
  {
   "cell_type": "code",
   "execution_count": 31,
   "metadata": {},
   "outputs": [],
   "source": [
    "from Bio.Seq import Seq\n",
    "from Bio.SeqRecord import SeqRecord\n",
    "\n",
    "simple_seq = Seq(\"GATC\")\n",
    "simple_seq_r = SeqRecord(simple_seq)"
   ]
  },
  {
   "cell_type": "code",
   "execution_count": 32,
   "metadata": {},
   "outputs": [
    {
     "name": "stdout",
     "output_type": "stream",
     "text": [
      "Made up sequence I wish I could write a paper about\n",
      "GATC\n"
     ]
    }
   ],
   "source": [
    "simple_seq_r.id = \"AC12345\"\n",
    "simple_seq_r.description = \"Made up sequence I wish I could write a paper about\"\n",
    "print(simple_seq_r.description)\n",
    "print(simple_seq_r.seq)"
   ]
  },
  {
   "cell_type": "code",
   "execution_count": null,
   "metadata": {},
   "outputs": [],
   "source": [
    "help(SeqRecord)"
   ]
  },
  {
   "cell_type": "markdown",
   "metadata": {},
   "source": [
    "* Read fasta file\n",
    "* *Yersinia pestis biovar Microtus* str. 91001 plasmid (페스트균)"
   ]
  },
  {
   "cell_type": "code",
   "execution_count": 34,
   "metadata": {},
   "outputs": [],
   "source": [
    "from Bio import SeqIO\n",
    "record = SeqIO.read(\"datasets/NC_005816.fna\", \"fasta\")"
   ]
  },
  {
   "cell_type": "code",
   "execution_count": 35,
   "metadata": {},
   "outputs": [
    {
     "data": {
      "text/plain": [
       "SeqRecord(seq=Seq('TGTAACGAACGGTGCAATAGTGATCCACACCCAACGCCTGAAATCAGATCCAGG...CTG', SingleLetterAlphabet()), id='gi|45478711|ref|NC_005816.1|', name='gi|45478711|ref|NC_005816.1|', description='gi|45478711|ref|NC_005816.1| Yersinia pestis biovar Microtus str. 91001 plasmid pPCP1, complete sequence', dbxrefs=[])"
      ]
     },
     "execution_count": 35,
     "metadata": {},
     "output_type": "execute_result"
    }
   ],
   "source": [
    "record"
   ]
  },
  {
   "cell_type": "code",
   "execution_count": 36,
   "metadata": {},
   "outputs": [
    {
     "name": "stdout",
     "output_type": "stream",
     "text": [
      "gi|45478711|ref|NC_005816.1|\n",
      "gi|45478711|ref|NC_005816.1|\n",
      "gi|45478711|ref|NC_005816.1| Yersinia pestis biovar Microtus str. 91001 plasmid pPCP1, complete sequence\n"
     ]
    }
   ],
   "source": [
    "print(record.id)\n",
    "print(record.name)\n",
    "print(record.description)"
   ]
  },
  {
   "cell_type": "markdown",
   "metadata": {},
   "source": [
    "* Read GenBank file"
   ]
  },
  {
   "cell_type": "code",
   "execution_count": 37,
   "metadata": {},
   "outputs": [],
   "source": [
    "from Bio import SeqIO\n",
    "record = SeqIO.read(\"datasets/NC_005816.gb\", \"genbank\")"
   ]
  },
  {
   "cell_type": "code",
   "execution_count": 38,
   "metadata": {},
   "outputs": [
    {
     "name": "stdout",
     "output_type": "stream",
     "text": [
      "NC_005816.1\n",
      "NC_005816\n",
      "Yersinia pestis biovar Microtus str. 91001 plasmid pPCP1, complete sequence\n",
      "41\n",
      "type: source\n",
      "location: [0:9609](+)\n",
      "qualifiers:\n",
      "    Key: biovar, Value: ['Microtus']\n",
      "    Key: db_xref, Value: ['taxon:229193']\n",
      "    Key: mol_type, Value: ['genomic DNA']\n",
      "    Key: organism, Value: ['Yersinia pestis biovar Microtus str. 91001']\n",
      "    Key: plasmid, Value: ['pPCP1']\n",
      "    Key: strain, Value: ['91001']\n",
      "\n",
      "type: gene\n",
      "location: [86:1109](+)\n",
      "qualifiers:\n",
      "    Key: db_xref, Value: ['GeneID:2767718']\n",
      "    Key: locus_tag, Value: ['YP_pPCP01']\n",
      "\n",
      "type: CDS\n",
      "location: [86:1109](+)\n",
      "qualifiers:\n",
      "    Key: codon_start, Value: ['1']\n",
      "    Key: db_xref, Value: ['GI:45478712', 'GeneID:2767718']\n",
      "    Key: locus_tag, Value: ['YP_pPCP01']\n",
      "    Key: note, Value: ['similar to corresponding CDS from previously sequenced pPCP plasmid of Yersinia pestis KIM (AF053945) and CO92 (AL109969), also many transposase entries for insertion sequence IS100 of Yersinia pestis. Contains IS21-like element transposase, HTH domain (Interpro|IPR007101)']\n",
      "    Key: product, Value: ['putative transposase']\n",
      "    Key: protein_id, Value: ['NP_995567.1']\n",
      "    Key: transl_table, Value: ['11']\n",
      "    Key: translation, Value: ['MVTFETVMEIKILHKQGMSSRAIARELGISRNTVKRYLQAKSEPPKYTPRPAVASLLDEYRDYIRQRIADAHPYKIPATVIAREIRDQGYRGGMTILRAFIRSLSVPQEQEPAVRFETEPGRQMQVDWGTMRNGRSPLHVFVAVLGYSRMLYIEFTDNMRYDTLETCHRNAFRFFGGVPREVLYDNMKTVVLQRDAYQTGQHRFHPSLWQFGKEMGFSPRLCRPFRAQTKGKVERMVQYTRNSFYIPLMTRLRPMGITVDVETANRHGLRWLHDVANQRKHETIQARPCDRWLEEQQSMLALPPEKKEYDVHLDENLVNFDKHPLHHPLSIYDSFCRGVA']\n",
      "\n"
     ]
    }
   ],
   "source": [
    "print(record.id)\n",
    "print(record.name)\n",
    "print(record.description)\n",
    "print(len(record.features))\n",
    "print(record.features[0])\n",
    "print(record.features[2])\n",
    "print(record.features[3])"
   ]
  },
  {
   "cell_type": "markdown",
   "metadata": {},
   "source": [
    "* 위치 탐색 in 활용"
   ]
  },
  {
   "cell_type": "code",
   "execution_count": 39,
   "metadata": {},
   "outputs": [
    {
     "name": "stdout",
     "output_type": "stream",
     "text": [
      "type: source\n",
      "location: [0:9609](+)\n",
      "qualifiers:\n",
      "    Key: biovar, Value: ['Microtus']\n",
      "    Key: db_xref, Value: ['taxon:229193']\n",
      "    Key: mol_type, Value: ['genomic DNA']\n",
      "    Key: organism, Value: ['Yersinia pestis biovar Microtus str. 91001']\n",
      "    Key: plasmid, Value: ['pPCP1']\n",
      "    Key: strain, Value: ['91001']\n",
      "\n",
      "source ['taxon:229193']\n",
      "type: gene\n",
      "location: [4342:4780](+)\n",
      "qualifiers:\n",
      "    Key: db_xref, Value: ['GeneID:2767712']\n",
      "    Key: gene, Value: ['pim']\n",
      "    Key: locus_tag, Value: ['YP_pPCP05']\n",
      "\n",
      "gene ['GeneID:2767712']\n",
      "type: CDS\n",
      "location: [4342:4780](+)\n",
      "qualifiers:\n",
      "    Key: codon_start, Value: ['1']\n",
      "    Key: db_xref, Value: ['GI:45478716', 'GeneID:2767712']\n",
      "    Key: gene, Value: ['pim']\n",
      "    Key: locus_tag, Value: ['YP_pPCP05']\n",
      "    Key: note, Value: ['similar to many previously sequenced pesticin immunity protein entries of Yersinia pestis plasmid pPCP, e.g. gi| 16082683|,ref|NP_395230.1| (NC_003132) , gi|1200166|emb|CAA90861.1| (Z54145 ) , gi|1488655| emb|CAA63439.1| (X92856) , gi|2996219|gb|AAC62543.1| (AF053945) , and gi|5763814|emb|CAB531 67.1| (AL109969)']\n",
      "    Key: product, Value: ['pesticin immunity protein']\n",
      "    Key: protein_id, Value: ['NP_995571.1']\n",
      "    Key: transl_table, Value: ['11']\n",
      "    Key: translation, Value: ['MGGGMISKLFCLALIFLSSSGLAEKNTYTAKDILQNLELNTFGNSLSHGIYGKQTTFKQTEFTNIKSNTKKHIALINKDNSWMISLKILGIKRDEYTVCFEDFSLIRPPTYVAIHPLLIKKVKSGNFIVVKEIKKSIPGCTVYYH']\n",
      "\n",
      "CDS ['GI:45478716', 'GeneID:2767712']\n"
     ]
    }
   ],
   "source": [
    "for feature in record.features:\n",
    "    if 4350 in feature:\n",
    "        print(feature)\n",
    "        print(\"%s %s\" % (feature.type, feature.qualifiers.get(\"db_xref\")))"
   ]
  },
  {
   "cell_type": "markdown",
   "metadata": {},
   "source": [
    "* format 함수"
   ]
  },
  {
   "cell_type": "code",
   "execution_count": null,
   "metadata": {},
   "outputs": [],
   "source": [
    "record.format(\"fasta\")"
   ]
  },
  {
   "cell_type": "markdown",
   "metadata": {},
   "source": [
    "* Slicing"
   ]
  },
  {
   "cell_type": "code",
   "execution_count": 41,
   "metadata": {},
   "outputs": [
    {
     "name": "stdout",
     "output_type": "stream",
     "text": [
      "9609\n",
      "41\n"
     ]
    }
   ],
   "source": [
    "print(len(record))\n",
    "print(len(record.features))"
   ]
  },
  {
   "cell_type": "code",
   "execution_count": 42,
   "metadata": {},
   "outputs": [
    {
     "name": "stdout",
     "output_type": "stream",
     "text": [
      "type: gene\n",
      "location: [4342:4780](+)\n",
      "qualifiers:\n",
      "    Key: db_xref, Value: ['GeneID:2767712']\n",
      "    Key: gene, Value: ['pim']\n",
      "    Key: locus_tag, Value: ['YP_pPCP05']\n",
      "\n",
      "type: CDS\n",
      "location: [4342:4780](+)\n",
      "qualifiers:\n",
      "    Key: codon_start, Value: ['1']\n",
      "    Key: db_xref, Value: ['GI:45478716', 'GeneID:2767712']\n",
      "    Key: gene, Value: ['pim']\n",
      "    Key: locus_tag, Value: ['YP_pPCP05']\n",
      "    Key: note, Value: ['similar to many previously sequenced pesticin immunity protein entries of Yersinia pestis plasmid pPCP, e.g. gi| 16082683|,ref|NP_395230.1| (NC_003132) , gi|1200166|emb|CAA90861.1| (Z54145 ) , gi|1488655| emb|CAA63439.1| (X92856) , gi|2996219|gb|AAC62543.1| (AF053945) , and gi|5763814|emb|CAB531 67.1| (AL109969)']\n",
      "    Key: product, Value: ['pesticin immunity protein']\n",
      "    Key: protein_id, Value: ['NP_995571.1']\n",
      "    Key: transl_table, Value: ['11']\n",
      "    Key: translation, Value: ['MGGGMISKLFCLALIFLSSSGLAEKNTYTAKDILQNLELNTFGNSLSHGIYGKQTTFKQTEFTNIKSNTKKHIALINKDNSWMISLKILGIKRDEYTVCFEDFSLIRPPTYVAIHPLLIKKVKSGNFIVVKEIKKSIPGCTVYYH']\n",
      "\n"
     ]
    }
   ],
   "source": [
    "print(record.features[20])\n",
    "print(record.features[21])"
   ]
  },
  {
   "cell_type": "code",
   "execution_count": 43,
   "metadata": {},
   "outputs": [
    {
     "name": "stdout",
     "output_type": "stream",
     "text": [
      "ID: NC_005816.1\n",
      "Name: NC_005816\n",
      "Description: Yersinia pestis biovar Microtus str. 91001 plasmid pPCP1, complete sequence\n",
      "Number of features: 2\n",
      "Seq('ATAAATAGATTATTCCAAATAATTTATTTATGTAAGAACAGGATGGGAGGGGGA...TTA', IUPACAmbiguousDNA())\n",
      "500\n",
      "2\n",
      "type: gene\n",
      "location: [42:480](+)\n",
      "qualifiers:\n",
      "    Key: db_xref, Value: ['GeneID:2767712']\n",
      "    Key: gene, Value: ['pim']\n",
      "    Key: locus_tag, Value: ['YP_pPCP05']\n",
      "\n",
      "type: CDS\n",
      "location: [42:480](+)\n",
      "qualifiers:\n",
      "    Key: codon_start, Value: ['1']\n",
      "    Key: db_xref, Value: ['GI:45478716', 'GeneID:2767712']\n",
      "    Key: gene, Value: ['pim']\n",
      "    Key: locus_tag, Value: ['YP_pPCP05']\n",
      "    Key: note, Value: ['similar to many previously sequenced pesticin immunity protein entries of Yersinia pestis plasmid pPCP, e.g. gi| 16082683|,ref|NP_395230.1| (NC_003132) , gi|1200166|emb|CAA90861.1| (Z54145 ) , gi|1488655| emb|CAA63439.1| (X92856) , gi|2996219|gb|AAC62543.1| (AF053945) , and gi|5763814|emb|CAB531 67.1| (AL109969)']\n",
      "    Key: product, Value: ['pesticin immunity protein']\n",
      "    Key: protein_id, Value: ['NP_995571.1']\n",
      "    Key: transl_table, Value: ['11']\n",
      "    Key: translation, Value: ['MGGGMISKLFCLALIFLSSSGLAEKNTYTAKDILQNLELNTFGNSLSHGIYGKQTTFKQTEFTNIKSNTKKHIALINKDNSWMISLKILGIKRDEYTVCFEDFSLIRPPTYVAIHPLLIKKVKSGNFIVVKEIKKSIPGCTVYYH']\n",
      "\n"
     ]
    }
   ],
   "source": [
    "sub_record = record[4300:4800]\n",
    "print(sub_record)\n",
    "print(len(sub_record))\n",
    "print(len(sub_record.features))\n",
    "print(sub_record.features[0])\n",
    "print(sub_record.features[1])"
   ]
  },
  {
   "cell_type": "markdown",
   "metadata": {},
   "source": [
    "# Biopython - Parsing Genbank records from the NCBI\n",
    "* 파일 읽기/쓰기 with 문 사용"
   ]
  },
  {
   "cell_type": "code",
   "execution_count": 44,
   "metadata": {},
   "outputs": [
    {
     "name": "stdout",
     "output_type": "stream",
     "text": [
      "AF191665.1 with 3 features\n"
     ]
    }
   ],
   "source": [
    "from Bio import Entrez\n",
    "from Bio import SeqIO\n",
    "Entrez.email = \"haseong@kribb.re.kr\"\n",
    "with Entrez.efetch(db=\"nucleotide\", rettype=\"gb\", retmode=\"text\", id=\"6273291\") as handle:\n",
    "    seq_record = SeqIO.read(handle, \"gb\") \n",
    "print(\"%s with %i features\" % (seq_record.id, len(seq_record.features)))"
   ]
  },
  {
   "cell_type": "markdown",
   "metadata": {},
   "source": [
    "* 여러개 record에 대해서는 parse 함수를 사용"
   ]
  },
  {
   "cell_type": "code",
   "execution_count": 45,
   "metadata": {},
   "outputs": [
    {
     "name": "stdout",
     "output_type": "stream",
     "text": [
      "AF191665.1 Opuntia marenae rpl16 gene; chloroplast gene for c...\n",
      "Sequence length 902, 3 features, from: chloroplast Grusonia marenae\n",
      "AF191664.1 Opuntia clavata rpl16 gene; chloroplast gene for c...\n",
      "Sequence length 899, 3 features, from: chloroplast Grusonia clavata\n",
      "AF191663.1 Opuntia bradtiana rpl16 gene; chloroplast gene for...\n",
      "Sequence length 899, 3 features, from: chloroplast Grusonia bradtiana\n"
     ]
    }
   ],
   "source": [
    "with Entrez.efetch(db=\"nucleotide\", rettype=\"gb\", retmode=\"text\", id=\"6273291,6273290,6273289\") as handle:\n",
    "    for seq_record in SeqIO.parse(handle, \"gb\"):\n",
    "        print(\"%s %s...\" % (seq_record.id, seq_record.description[:50]))\n",
    "        print(\"Sequence length %i, %i features, from: %s\"\n",
    "              % (len(seq_record), len(seq_record.features), seq_record.annotations[\"source\"]))"
   ]
  },
  {
   "cell_type": "markdown",
   "metadata": {},
   "source": [
    "* 파일 쓰기 "
   ]
  },
  {
   "cell_type": "code",
   "execution_count": 47,
   "metadata": {},
   "outputs": [
    {
     "data": {
      "text/plain": [
       "1"
      ]
     },
     "execution_count": 47,
     "metadata": {},
     "output_type": "execute_result"
    }
   ],
   "source": [
    "from Bio import SeqIO\n",
    "SeqIO.write(seq_record, \"datasets/my_seq_records.fa\", \"fasta\")"
   ]
  },
  {
   "cell_type": "markdown",
   "metadata": {},
   "source": [
    "# Biopython - multiple sequence alignment objects"
   ]
  },
  {
   "cell_type": "markdown",
   "metadata": {},
   "source": [
    "* http://biopython.org/DIST/docs/tutorial/Tutorial.html#htoc70  \n",
    "* Bio.AlignIO.read() returns a single MultipleSeqAlignment object  \n",
    "* Bio.AlignIO.parse() returns MultipleSeqAlignment objects  "
   ]
  },
  {
   "cell_type": "markdown",
   "metadata": {},
   "source": [
    "* Alignment tools \n"
   ]
  },
  {
   "cell_type": "code",
   "execution_count": 48,
   "metadata": {},
   "outputs": [
    {
     "data": {
      "text/plain": [
       "['ClustalOmegaCommandline',\n",
       " 'ClustalwCommandline',\n",
       " 'DialignCommandline',\n",
       " 'MSAProbsCommandline',\n",
       " 'MafftCommandline',\n",
       " 'MuscleCommandline',\n",
       " 'PrankCommandline',\n",
       " 'ProbconsCommandline',\n",
       " 'TCoffeeCommandline',\n",
       " '_ClustalOmega',\n",
       " '_Clustalw',\n",
       " '_Dialign',\n",
       " '_MSAProbs',\n",
       " '_Mafft',\n",
       " '_Muscle',\n",
       " '_Prank',\n",
       " '_Probcons',\n",
       " '_TCoffee',\n",
       " '__all__',\n",
       " '__builtins__',\n",
       " '__cached__',\n",
       " '__doc__',\n",
       " '__file__',\n",
       " '__loader__',\n",
       " '__name__',\n",
       " '__package__',\n",
       " '__path__',\n",
       " '__spec__']"
      ]
     },
     "execution_count": 48,
     "metadata": {},
     "output_type": "execute_result"
    }
   ],
   "source": [
    "import Bio.Align.Applications as alnapps\n",
    "dir(alnapps)"
   ]
  },
  {
   "cell_type": "markdown",
   "metadata": {},
   "source": [
    "* Clustalw를 이용한 서열 정렬 (cactus family Opuntia(선인장))"
   ]
  },
  {
   "cell_type": "code",
   "execution_count": 49,
   "metadata": {},
   "outputs": [
    {
     "name": "stdout",
     "output_type": "stream",
     "text": [
      "clustalw2 -infile=datasets/opuntia.fasta\n",
      "\n",
      "\n",
      "\n",
      " CLUSTAL 2.1 Multiple Sequence Alignments\n",
      "\n",
      "\n",
      "Sequence format is Pearson\n",
      "Sequence 1: gi|6273291|gb|AF191665.1|AF191665   902 bp\n",
      "Sequence 2: gi|6273290|gb|AF191664.1|AF191664   899 bp\n",
      "Sequence 3: gi|6273289|gb|AF191663.1|AF191663   899 bp\n",
      "Sequence 4: gi|6273287|gb|AF191661.1|AF191661   895 bp\n",
      "Sequence 5: gi|6273286|gb|AF191660.1|AF191660   893 bp\n",
      "Sequence 6: gi|6273285|gb|AF191659.1|AF191659   894 bp\n",
      "Sequence 7: gi|6273284|gb|AF191658.1|AF191658   896 bp\n",
      "Start of Pairwise alignments\n",
      "Aligning...\n",
      "\n",
      "Sequences (1:2) Aligned. Score:  99\n",
      "Sequences (1:3) Aligned. Score:  99\n",
      "Sequences (1:4) Aligned. Score:  98\n",
      "Sequences (1:5) Aligned. Score:  98\n",
      "Sequences (1:6) Aligned. Score:  98\n",
      "Sequences (1:7) Aligned. Score:  98\n",
      "Sequences (2:3) Aligned. Score:  99\n",
      "Sequences (2:4) Aligned. Score:  98\n",
      "Sequences (2:5) Aligned. Score:  98\n",
      "Sequences (2:6) Aligned. Score:  98\n",
      "Sequences (2:7) Aligned. Score:  98\n",
      "Sequences (3:4) Aligned. Score:  98\n",
      "Sequences (3:5) Aligned. Score:  98\n",
      "Sequences (3:6) Aligned. Score:  98\n",
      "Sequences (3:7) Aligned. Score:  98\n",
      "Sequences (4:5) Aligned. Score:  99\n",
      "Sequences (4:6) Aligned. Score:  99\n",
      "Sequences (4:7) Aligned. Score:  99\n",
      "Sequences (5:6) Aligned. Score:  99\n",
      "Sequences (5:7) Aligned. Score:  99\n",
      "Sequences (6:7) Aligned. Score:  99\n",
      "Guide tree file created:   [datasets/opuntia.dnd]\n",
      "\n",
      "There are 6 groups\n",
      "Start of Multiple Alignment\n",
      "\n",
      "Aligning...\n",
      "Group 1: Sequences:   2      Score:16933\n",
      "Group 2: Sequences:   2      Score:16703\n",
      "Group 3: Sequences:   4      Score:16812\n",
      "Group 4: Sequences:   2      Score:17071\n",
      "Group 5: Sequences:   3      Score:16845\n",
      "Group 6: Sequences:   7      Score:16678\n",
      "Alignment Score 114256\n",
      "\n",
      "CLUSTAL-Alignment file created  [datasets/opuntia.aln]\n",
      "\n",
      "\n"
     ]
    }
   ],
   "source": [
    "from Bio.Align.Applications import ClustalwCommandline as clw\n",
    "#help(clw)\n",
    "cline = clw(\"clustalw2\", infile=\"datasets/opuntia.fasta\")\n",
    "stdout, stderr = cline()\n",
    "print(cline)\n",
    "print(stdout)"
   ]
  },
  {
   "cell_type": "code",
   "execution_count": 50,
   "metadata": {},
   "outputs": [
    {
     "name": "stdout",
     "output_type": "stream",
     "text": [
      "SingleLetterAlphabet() alignment with 7 rows and 906 columns\n",
      "TATACATTAAAGAAGGGGGATGCGGATAAATGGAAAGGCGAAAG...AGA gi|6273285|gb|AF191659.1|AF191\n",
      "TATACATTAAAGAAGGGGGATGCGGATAAATGGAAAGGCGAAAG...AGA gi|6273284|gb|AF191658.1|AF191\n",
      "TATACATTAAAGAAGGGGGATGCGGATAAATGGAAAGGCGAAAG...AGA gi|6273287|gb|AF191661.1|AF191\n",
      "TATACATAAAAGAAGGGGGATGCGGATAAATGGAAAGGCGAAAG...AGA gi|6273286|gb|AF191660.1|AF191\n",
      "TATACATTAAAGGAGGGGGATGCGGATAAATGGAAAGGCGAAAG...AGA gi|6273290|gb|AF191664.1|AF191\n",
      "TATACATTAAAGGAGGGGGATGCGGATAAATGGAAAGGCGAAAG...AGA gi|6273289|gb|AF191663.1|AF191\n",
      "TATACATTAAAGGAGGGGGATGCGGATAAATGGAAAGGCGAAAG...AGA gi|6273291|gb|AF191665.1|AF191\n"
     ]
    }
   ],
   "source": [
    "#print(stdout)\n",
    "from Bio import AlignIO\n",
    "align = AlignIO.read(\"datasets/opuntia.aln\", \"clustal\")\n",
    "print(align)"
   ]
  },
  {
   "cell_type": "code",
   "execution_count": 52,
   "metadata": {},
   "outputs": [
    {
     "name": "stdout",
     "output_type": "stream",
     "text": [
      "                             _______________ gi|6273291|gb|AF191665.1|AF191665\n",
      "  __________________________|\n",
      " |                          |   ______ gi|6273290|gb|AF191664.1|AF191664\n",
      " |                          |__|\n",
      " |                             |_____ gi|6273289|gb|AF191663.1|AF191663\n",
      " |\n",
      "_|_________________ gi|6273287|gb|AF191661.1|AF191661\n",
      " |\n",
      " |__________ gi|6273286|gb|AF191660.1|AF191660\n",
      " |\n",
      " |    __ gi|6273285|gb|AF191659.1|AF191659\n",
      " |___|\n",
      "     | gi|6273284|gb|AF191658.1|AF191658\n",
      "\n"
     ]
    }
   ],
   "source": [
    "from Bio import Phylo\n",
    "tree = Phylo.read(\"datasets/opuntia.dnd\", \"newick\")\n",
    "Phylo.draw_ascii(tree)"
   ]
  },
  {
   "cell_type": "markdown",
   "metadata": {},
   "source": [
    "# Biopython - PSSM matrix"
   ]
  },
  {
   "cell_type": "code",
   "execution_count": 53,
   "metadata": {},
   "outputs": [
    {
     "name": "stdout",
     "output_type": "stream",
     "text": [
      "TAAGCGTGCACGCGCAACACGTGCATTA\n"
     ]
    }
   ],
   "source": [
    "from Bio.Seq import Seq\n",
    "test_seq=Seq(\"TAAGCGTGCACGCGCAACACGTGCATTA\")\n",
    "test_seq    \n",
    "print(test_seq)"
   ]
  },
  {
   "cell_type": "code",
   "execution_count": 54,
   "metadata": {},
   "outputs": [],
   "source": [
    "from Bio import AlignIO\n",
    "from Bio.Align import AlignInfo"
   ]
  },
  {
   "cell_type": "markdown",
   "metadata": {},
   "source": [
    "* Pfam은 단백질 페밀리 database, 각 서열 그룹을 align 한 파일이 제공됨 \n",
    "* Family: Sigma54_activ_2 (PF14532) https://pfam.xfam.org/family/PF14532#tabview=tab3"
   ]
  },
  {
   "cell_type": "code",
   "execution_count": null,
   "metadata": {},
   "outputs": [],
   "source": [
    "align = AlignIO.read(\"datasets/PF14532_full.txt\", \"stockholm\")\n",
    "print(align)\n",
    "len(align)\n",
    "type(align)\n",
    "print(align[0])\n",
    "print(align[0].seq)\n",
    "print(align[0].format(\"clustal\"))"
   ]
  },
  {
   "cell_type": "markdown",
   "metadata": {},
   "source": [
    "* slicing alignment"
   ]
  },
  {
   "cell_type": "code",
   "execution_count": 56,
   "metadata": {},
   "outputs": [
    {
     "name": "stdout",
     "output_type": "stream",
     "text": [
      "CLUSTAL X (1.81) multiple sequence alignment\n",
      "\n",
      "\n",
      "V7EPJ0_9RHOB/141-283                --------------------------------------------------\n",
      "B1ZTM1_OPITP/145-296                --------------------------------------------------\n",
      "W3ANH6_9FIRM/219-355                --------------------------------------------------\n",
      "Q6LNI3_PHOPR/144-289                --------------------------------------------------\n",
      "A0A1G8U4Y5_9RHOB/145-284            --------------------------------------------------\n",
      "\n",
      "V7EPJ0_9RHOB/141-283                -----------------------------VGRTPA-M-Q-A-L-Y-R-L-\n",
      "B1ZTM1_OPITP/145-296                -----------------------------IGQSAS-M-R-K-L-V-Q-Q-\n",
      "W3ANH6_9FIRM/219-355                ----------------------------y--KSRK-M-Q-K-T-V-D-L-\n",
      "Q6LNI3_PHOPR/144-289                -----------------------------IGDSPL-S-V-K-L-R-E-Q-\n",
      "A0A1G8U4Y5_9RHOB/145-284            ----------------------------r-GTSPQ-S-E-E-L-R-A-R-\n",
      "\n",
      "V7EPJ0_9RHOB/141-283                --V---A---R---V---M--------N---T----D-------L-----\n",
      "B1ZTM1_OPITP/145-296                --V---K---K---L---A--------A---V----R-------T-----\n",
      "W3ANH6_9FIRM/219-355                --A---E---K---L---S--------R---T----D-------C-----\n",
      "Q6LNI3_PHOPR/144-289                --I---A---N---I---A--------L---T----N-------K-----\n",
      "A0A1G8U4Y5_9RHOB/145-284            --V---R---L---V---A--------R---A----G-------A-----\n",
      "\n",
      "V7EPJ0_9RHOB/141-283                ---A-----V---L-V-T--GES-GT-GK----S----L-I-A----K--\n",
      "B1ZTM1_OPITP/145-296                ---P-----V---L-L-I--GEN-GS-GK----S----A-V-A----E--\n",
      "W3ANH6_9FIRM/219-355                ---P-----K---L-I-V--EPV-GN-LH----R----A-F-I----N--\n",
      "Q6LNI3_PHOPR/144-289                ---D-----V---L-I-D--GES-GT-GR----R----T-V-S----K--\n",
      "A0A1G8U4Y5_9RHOB/145-284            ---E-----V---L-V-T--GPT-GS-GT----A----K-V-A----E--\n",
      "\n",
      "\n",
      "\n",
      "KENKE\n"
     ]
    }
   ],
   "source": [
    "# print(align[3:8].format(\"clustal\"))\n",
    "print(align[3:8,:200].format(\"clustal\"))\n",
    "print(align[3:8,197])"
   ]
  },
  {
   "cell_type": "markdown",
   "metadata": {},
   "source": [
    "* Turn the alignment object into an array of letters"
   ]
  },
  {
   "cell_type": "code",
   "execution_count": 57,
   "metadata": {},
   "outputs": [
    {
     "name": "stdout",
     "output_type": "stream",
     "text": [
      "Align shape 7 by 906\n",
      "[[b'T' b'A' b'T' ... b'A' b'G' b'A']\n",
      " [b'T' b'A' b'T' ... b'A' b'G' b'A']\n",
      " [b'T' b'A' b'T' ... b'A' b'G' b'A']\n",
      " ...\n",
      " [b'T' b'A' b'T' ... b'A' b'G' b'A']\n",
      " [b'T' b'A' b'T' ... b'A' b'G' b'A']\n",
      " [b'T' b'A' b'T' ... b'A' b'G' b'A']]\n"
     ]
    }
   ],
   "source": [
    "import numpy as np\n",
    "from Bio import AlignIO\n",
    "#align = AlignIO.read(\"PF05371_seed.sth\", \"stockholm\")\n",
    "align = AlignIO.read(\"datasets/opuntia.aln\", \"clustal\")\n",
    "align_array = np.array([list(rec) for rec in align], np.character)\n",
    "print(\"Align shape %i by %i\" % align_array.shape)\n",
    "print(align_array)"
   ]
  },
  {
   "cell_type": "code",
   "execution_count": 58,
   "metadata": {},
   "outputs": [
    {
     "data": {
      "text/plain": [
       "[SeqRecord(seq=Seq('TATACATTAAAGAAGGGGGATGCGGATAAATGGAAAGGCGAAAGAAAGAAAAAA...AGA', SingleLetterAlphabet()), id='gi|6273285|gb|AF191659.1|AF191', name='<unknown name>', description='gi|6273285|gb|AF191659.1|AF191', dbxrefs=[]),\n",
       " SeqRecord(seq=Seq('TATACATTAAAGAAGGGGGATGCGGATAAATGGAAAGGCGAAAGAAAGAAAAAA...AGA', SingleLetterAlphabet()), id='gi|6273284|gb|AF191658.1|AF191', name='<unknown name>', description='gi|6273284|gb|AF191658.1|AF191', dbxrefs=[]),\n",
       " SeqRecord(seq=Seq('TATACATTAAAGAAGGGGGATGCGGATAAATGGAAAGGCGAAAGAAAGAAAAAA...AGA', SingleLetterAlphabet()), id='gi|6273287|gb|AF191661.1|AF191', name='<unknown name>', description='gi|6273287|gb|AF191661.1|AF191', dbxrefs=[]),\n",
       " SeqRecord(seq=Seq('TATACATAAAAGAAGGGGGATGCGGATAAATGGAAAGGCGAAAGAAAGAAAAAA...AGA', SingleLetterAlphabet()), id='gi|6273286|gb|AF191660.1|AF191', name='<unknown name>', description='gi|6273286|gb|AF191660.1|AF191', dbxrefs=[]),\n",
       " SeqRecord(seq=Seq('TATACATTAAAGGAGGGGGATGCGGATAAATGGAAAGGCGAAAGAAAGAAAAAA...AGA', SingleLetterAlphabet()), id='gi|6273290|gb|AF191664.1|AF191', name='<unknown name>', description='gi|6273290|gb|AF191664.1|AF191', dbxrefs=[]),\n",
       " SeqRecord(seq=Seq('TATACATTAAAGGAGGGGGATGCGGATAAATGGAAAGGCGAAAGAAAGAAAAAA...AGA', SingleLetterAlphabet()), id='gi|6273289|gb|AF191663.1|AF191', name='<unknown name>', description='gi|6273289|gb|AF191663.1|AF191', dbxrefs=[]),\n",
       " SeqRecord(seq=Seq('TATACATTAAAGGAGGGGGATGCGGATAAATGGAAAGGCGAAAGAAAGAAAAAA...AGA', SingleLetterAlphabet()), id='gi|6273291|gb|AF191665.1|AF191', name='<unknown name>', description='gi|6273291|gb|AF191665.1|AF191', dbxrefs=[])]"
      ]
     },
     "execution_count": 58,
     "metadata": {},
     "output_type": "execute_result"
    }
   ],
   "source": [
    "[rec for rec in align]"
   ]
  },
  {
   "cell_type": "markdown",
   "metadata": {},
   "source": [
    "Note that this leaves the original Biopython alignment object and the NumPy array in memory as separate objects - editing one will not update the other!"
   ]
  },
  {
   "cell_type": "code",
   "execution_count": 59,
   "metadata": {},
   "outputs": [
    {
     "data": {
      "text/plain": [
       "(7, 906)"
      ]
     },
     "execution_count": 59,
     "metadata": {},
     "output_type": "execute_result"
    }
   ],
   "source": [
    "align_array.shape"
   ]
  },
  {
   "cell_type": "markdown",
   "metadata": {},
   "source": [
    "* SummaryInfo 클래스\n",
    " * consensus sequence, position specific score matrix 계산\n",
    " * information content와 substitution 정보 계산 가능 "
   ]
  },
  {
   "cell_type": "code",
   "execution_count": 60,
   "metadata": {},
   "outputs": [
    {
     "name": "stdout",
     "output_type": "stream",
     "text": [
      "TATACATTAAAGXAGGGGGATGCGGATAAATGGAAAGGCGAAAGAAAGAAAAAAATGAATCTAAATGATATAXGATTCCACTATGTAAGGTCTTTGAATCATATCATAAAAGACAATGTAATAAAGCATGAATACAGATTCACACATAATTATCTGATATGAATCTATTCATAGAAAAAAGAAAAAAGTAAGAGCCTCCGGCCAATAAAGACTAAGAGGGTTGGCTCAAGAACAAAGTTCATTAAGAGCTCCATTGTAGAATTCAGACCTAATCATTAATCAAGAAGCGATGGGAACGATGTAATCCATGAATACAGAAGATTCAATTGAAAAAGATCCTAATXXXTCATTGGGAAGGATGGCGGAACGAACCAGAGACCAATTCATCTATTCTGAAAAGTGATAAACTAATCCTATAAAACTAAAATAGATATTGAAAGAGTAAATATTCGCCCGCGAAAATTCCTTTTTTATTTAAATTGCTCATATTTTXTTTTAGCAATGCAATCTAATAAAATATATCTATACAAAAAAAXATAGACAAACTATATATATATATATATATAATATATTTCAAATTXCCTTATATATCCAAATATAAAAATATCTAATAAATTAGATGAATATCAAAGAATCTATTGATTTAGTGTATTATTAAATGTATATXTTAATTCAATATTATTATTCTATTCATTTTTATTCATTTTCAAATTTATAATATATTAATCTATATATTAATTTAXAATTCTATTCTAATTCGAATTCAATTTTTAAATATTCATATTCAATTAAAATTGAAATTTTTTCATTCGCGAGGAGCCGGATGAGAAGAAACTCTCATGTCCGGTTCTGTAGTAGAGATGGAATTAAGAAAAAACCATCAACTATAACCCCAAXAGAACCAGA\n",
      "{'A': 7.0, 'C': 0, 'G': 0, 'T': 0}\n",
      "7.0\n"
     ]
    }
   ],
   "source": [
    "summary_align = AlignInfo.SummaryInfo(align)\n",
    "consensus = summary_align.dumb_consensus()\n",
    "print(consensus)\n",
    "my_pssm = summary_align.pos_specific_score_matrix(consensus, chars_to_ignore = ['N', '-'])\n",
    "#print(my_pssm)\n",
    "# your_pssm[sequence_number][residue_count_name]\n",
    "print(my_pssm[1])\n",
    "print(my_pssm[1][\"A\"])"
   ]
  },
  {
   "cell_type": "code",
   "execution_count": 61,
   "metadata": {},
   "outputs": [
    {
     "name": "stdout",
     "output_type": "stream",
     "text": [
      "[Seq('TATACATTAAAGAAGGGGGATGCGGATAAATGGAAAGGCGAAAGAAAGAAAAAA...AGA', SingleLetterAlphabet()), Seq('TATACATTAAAGAAGGGGGATGCGGATAAATGGAAAGGCGAAAGAAAGAAAAAA...AGA', SingleLetterAlphabet()), Seq('TATACATTAAAGAAGGGGGATGCGGATAAATGGAAAGGCGAAAGAAAGAAAAAA...AGA', SingleLetterAlphabet()), Seq('TATACATAAAAGAAGGGGGATGCGGATAAATGGAAAGGCGAAAGAAAGAAAAAA...AGA', SingleLetterAlphabet()), Seq('TATACATTAAAGGAGGGGGATGCGGATAAATGGAAAGGCGAAAGAAAGAAAAAA...AGA', SingleLetterAlphabet()), Seq('TATACATTAAAGGAGGGGGATGCGGATAAATGGAAAGGCGAAAGAAAGAAAAAA...AGA', SingleLetterAlphabet()), Seq('TATACATTAAAGGAGGGGGATGCGGATAAATGGAAAGGCGAAAGAAAGAAAAAA...AGA', SingleLetterAlphabet())]\n"
     ]
    }
   ],
   "source": [
    "instances = [al.seq for al in align[:10]]\n",
    "print(instances)"
   ]
  },
  {
   "cell_type": "markdown",
   "metadata": {},
   "source": [
    "# Biopython - Motif"
   ]
  },
  {
   "cell_type": "markdown",
   "metadata": {},
   "source": [
    " * Bio.motifs package included in Biopython 1.61 "
   ]
  },
  {
   "cell_type": "code",
   "execution_count": 62,
   "metadata": {},
   "outputs": [],
   "source": [
    "from Bio import motifs\n",
    "from Bio.Seq import Seq"
   ]
  },
  {
   "cell_type": "code",
   "execution_count": 63,
   "metadata": {},
   "outputs": [],
   "source": [
    "instances = [Seq(\"TACAA\"),\n",
    "            Seq(\"TACGA\"),\n",
    "            Seq(\"TACAA\"),\n",
    "            Seq(\"TAGAA\"),\n",
    "            Seq(\"TACAA\"),\n",
    "            Seq(\"AACGA\"),\n",
    "           ]"
   ]
  },
  {
   "cell_type": "code",
   "execution_count": 64,
   "metadata": {},
   "outputs": [
    {
     "name": "stdout",
     "output_type": "stream",
     "text": [
      "TACAA\n",
      "TACGA\n",
      "TACAA\n",
      "TAGAA\n",
      "TACAA\n",
      "AACGA\n",
      "\n"
     ]
    }
   ],
   "source": [
    "m = motifs.create(instances)\n",
    "print(m)"
   ]
  },
  {
   "cell_type": "code",
   "execution_count": 65,
   "metadata": {},
   "outputs": [
    {
     "data": {
      "text/plain": [
       "{'A': [1, 6, 0, 4, 6],\n",
       " 'C': [0, 0, 5, 0, 0],\n",
       " 'G': [0, 0, 1, 2, 0],\n",
       " 'T': [5, 0, 0, 0, 0]}"
      ]
     },
     "execution_count": 65,
     "metadata": {},
     "output_type": "execute_result"
    }
   ],
   "source": [
    "m.counts"
   ]
  },
  {
   "cell_type": "code",
   "execution_count": 66,
   "metadata": {},
   "outputs": [
    {
     "name": "stdout",
     "output_type": "stream",
     "text": [
      "TTGTA\n"
     ]
    }
   ],
   "source": [
    "m.counts[\"A\", 1]\n",
    "r = m.reverse_complement()\n",
    "print(r.consensus)\n",
    "#r.weblogo(\"mymotif.png\")"
   ]
  },
  {
   "cell_type": "code",
   "execution_count": 92,
   "metadata": {},
   "outputs": [
    {
     "data": {
      "image/png": "[encoded data removed]",
      "text/plain": [
       "<IPython.core.display.Image object>"
      ]
     },
     "metadata": {},
     "output_type": "display_data"
    }
   ],
   "source": [
    "from IPython.display import Image, display\n",
    "display(Image(filename=\"mymotif.png\"))"
   ]
  },
  {
   "cell_type": "markdown",
   "metadata": {},
   "source": [
    "* Position-weight matrices 계산\n",
    "* .counts 특성 사용 "
   ]
  },
  {
   "cell_type": "code",
   "execution_count": 68,
   "metadata": {},
   "outputs": [
    {
     "name": "stdout",
     "output_type": "stream",
     "text": [
      "        0      1      2      3      4\n",
      "A:   0.19   0.81   0.06   0.56   0.81\n",
      "C:   0.06   0.06   0.69   0.06   0.06\n",
      "G:   0.06   0.06   0.19   0.31   0.06\n",
      "T:   0.69   0.06   0.06   0.06   0.06\n",
      "\n"
     ]
    }
   ],
   "source": [
    "pwm = m.counts.normalize(pseudocounts=0.5)\n",
    "print(pwm)"
   ]
  },
  {
   "cell_type": "code",
   "execution_count": 69,
   "metadata": {},
   "outputs": [
    {
     "name": "stdout",
     "output_type": "stream",
     "text": [
      "        0      1      2      3      4\n",
      "A:  -0.42   1.70  -2.00   1.17   1.70\n",
      "C:  -2.00  -2.00   1.46  -2.00  -2.00\n",
      "G:  -2.00  -2.00  -0.42   0.32  -2.00\n",
      "T:   1.46  -2.00  -2.00  -2.00  -2.00\n",
      "\n"
     ]
    }
   ],
   "source": [
    "pssm = pwm.log_odds()\n",
    "print(pssm)"
   ]
  },
  {
   "cell_type": "code",
   "execution_count": 70,
   "metadata": {},
   "outputs": [
    {
     "name": "stdout",
     "output_type": "stream",
     "text": [
      "        0      1      2      3      4\n",
      "A:  -0.68   1.44  -2.26   0.91   1.44\n",
      "C:  -1.68  -1.68   1.78  -1.68  -1.68\n",
      "G:  -1.68  -1.68  -0.09   0.64  -1.68\n",
      "T:   1.20  -2.26  -2.26  -2.26  -2.26\n",
      "\n"
     ]
    }
   ],
   "source": [
    "background = {\"A\":0.3,\"C\":0.2,\"G\":0.2,\"T\":0.3}\n",
    "pssm = pwm.log_odds(background)\n",
    "print(pssm)"
   ]
  },
  {
   "cell_type": "markdown",
   "metadata": {},
   "source": [
    "* 서열 내 모티프 존재 유무 탐색 "
   ]
  },
  {
   "cell_type": "code",
   "execution_count": 71,
   "metadata": {},
   "outputs": [
    {
     "name": "stdout",
     "output_type": "stream",
     "text": [
      "10 TACAA \n",
      "TACAA\n",
      "TACGA\n",
      "TACAA\n",
      "TAGAA\n",
      "TACAA\n",
      "AACGA\n",
      "\n"
     ]
    }
   ],
   "source": [
    "test_seq=Seq(\"TACACTGCATTACAACCCAAGCATTA\")\n",
    "for pos, seq in m.instances.search(test_seq):\n",
    "    print(\"%i %s \" % (pos, seq))\n",
    "print(m)"
   ]
  },
  {
   "cell_type": "code",
   "execution_count": 72,
   "metadata": {},
   "outputs": [
    {
     "name": "stdout",
     "output_type": "stream",
     "text": [
      "TTGTA\n",
      "TCGTA\n",
      "TTGTA\n",
      "TTCTA\n",
      "TTGTA\n",
      "TCGTT\n",
      "\n"
     ]
    }
   ],
   "source": [
    "for pos, seq in r.instances.search(test_seq):\n",
    "    print(\"%i %s \" % (pos, seq))\n",
    "print(r)"
   ]
  },
  {
   "cell_type": "markdown",
   "metadata": {},
   "source": [
    "* Using the PSSM score"
   ]
  },
  {
   "cell_type": "code",
   "execution_count": 73,
   "metadata": {},
   "outputs": [
    {
     "name": "stdout",
     "output_type": "stream",
     "text": [
      "0, 3.643981 \n",
      "10, 6.759458 \n",
      "[  3.643981    -8.560285    -2.4004133   -5.6533937   -4.2748823\n",
      "  -0.05645879 -10.145247    -3.3293302   -5.9753222   -3.5703382\n",
      "   6.759458    -5.3903594   -5.8598447   -0.81545067  -0.81545067\n",
      "   0.7695118   -6.3903594   -3.5379167    0.4255574   -1.9309279\n",
      " -10.145247    -3.3293302 ]\n"
     ]
    }
   ],
   "source": [
    "for pos, score in pssm.search(test_seq, threshold=3.0):\n",
    "    print(\"%d, %f \" % (pos, score))\n",
    "print(pssm.calculate(test_seq))"
   ]
  },
  {
   "cell_type": "code",
   "execution_count": 74,
   "metadata": {},
   "outputs": [
    {
     "name": "stdout",
     "output_type": "stream",
     "text": [
      "        0      1      2      3      4\n",
      "A:   1.00   6.00   0.00   4.00   6.00\n",
      "C:   0.00   0.00   5.00   0.00   0.00\n",
      "G:   0.00   0.00   1.00   2.00   0.00\n",
      "T:   5.00   0.00   0.00   0.00   0.00\n",
      "\n",
      "        0      1      2      3      4\n",
      "A:   0.17   0.95   0.02   0.64   0.95\n",
      "C:   0.02   0.02   0.80   0.02   0.02\n",
      "G:   0.02   0.02   0.17   0.33   0.02\n",
      "T:   0.80   0.02   0.02   0.02   0.02\n",
      "\n",
      "        0      1      2      3      4\n",
      "A:  -0.54   1.93  -4.00   1.36   1.93\n",
      "C:  -4.00  -4.00   1.67  -4.00  -4.00\n",
      "G:  -4.00  -4.00  -0.54   0.39  -4.00\n",
      "T:   1.67  -4.00  -4.00  -4.00  -4.00\n",
      "\n"
     ]
    }
   ],
   "source": [
    "m.pseudocounts = 0.1\n",
    "print(m.counts)\n",
    "print(m.pwm)\n",
    "print(m.pssm)\n"
   ]
  },
  {
   "cell_type": "markdown",
   "metadata": {},
   "source": [
    "# 기계학습 K-Nearest Neighbor (KNN)"
   ]
  },
  {
   "cell_type": "code",
   "execution_count": 75,
   "metadata": {},
   "outputs": [],
   "source": [
    "import numpy as np\n",
    "import pandas as pd\n",
    "import matplotlib.pyplot as plt\n",
    "\n",
    "from sklearn.datasets import load_breast_cancer\n",
    "from sklearn.metrics import confusion_matrix\n",
    "from sklearn.neighbors import KNeighborsClassifier\n",
    "from sklearn.model_selection import train_test_split\n",
    "import seaborn as sns\n",
    "sns.set()\n"
   ]
  },
  {
   "cell_type": "code",
   "execution_count": 76,
   "metadata": {},
   "outputs": [],
   "source": [
    "breast_cancer = load_breast_cancer()"
   ]
  },
  {
   "cell_type": "code",
   "execution_count": 77,
   "metadata": {},
   "outputs": [
    {
     "name": "stdout",
     "output_type": "stream",
     "text": [
      "(569, 30)\n"
     ]
    }
   ],
   "source": [
    "print(breast_cancer.data.shape)\n",
    "X = pd.DataFrame(breast_cancer.data, columns=breast_cancer.feature_names)"
   ]
  },
  {
   "cell_type": "code",
   "execution_count": 78,
   "metadata": {},
   "outputs": [
    {
     "name": "stdout",
     "output_type": "stream",
     "text": [
      "   mean radius  mean texture  mean perimeter  mean area  mean smoothness  \\\n",
      "0        17.99         10.38          122.80     1001.0          0.11840   \n",
      "1        20.57         17.77          132.90     1326.0          0.08474   \n",
      "2        19.69         21.25          130.00     1203.0          0.10960   \n",
      "3        11.42         20.38           77.58      386.1          0.14250   \n",
      "\n",
      "   mean compactness  mean concavity  mean concave points  mean symmetry  \\\n",
      "0           0.27760          0.3001              0.14710         0.2419   \n",
      "1           0.07864          0.0869              0.07017         0.1812   \n",
      "2           0.15990          0.1974              0.12790         0.2069   \n",
      "3           0.28390          0.2414              0.10520         0.2597   \n",
      "\n",
      "   mean fractal dimension  ...  worst radius  worst texture  worst perimeter  \\\n",
      "0                 0.07871  ...         25.38          17.33           184.60   \n",
      "1                 0.05667  ...         24.99          23.41           158.80   \n",
      "2                 0.05999  ...         23.57          25.53           152.50   \n",
      "3                 0.09744  ...         14.91          26.50            98.87   \n",
      "\n",
      "   worst area  worst smoothness  worst compactness  worst concavity  \\\n",
      "0      2019.0            0.1622             0.6656           0.7119   \n",
      "1      1956.0            0.1238             0.1866           0.2416   \n",
      "2      1709.0            0.1444             0.4245           0.4504   \n",
      "3       567.7            0.2098             0.8663           0.6869   \n",
      "\n",
      "   worst concave points  worst symmetry  worst fractal dimension  \n",
      "0                0.2654          0.4601                  0.11890  \n",
      "1                0.1860          0.2750                  0.08902  \n",
      "2                0.2430          0.3613                  0.08758  \n",
      "3                0.2575          0.6638                  0.17300  \n",
      "\n",
      "[4 rows x 30 columns]\n"
     ]
    }
   ],
   "source": [
    "print(X.loc[0:3,])"
   ]
  },
  {
   "cell_type": "code",
   "execution_count": 79,
   "metadata": {},
   "outputs": [
    {
     "data": {
      "text/html": [
       "<div>\n",
       "<style scoped>\n",
       "    .dataframe tbody tr th:only-of-type {\n",
       "        vertical-align: middle;\n",
       "    }\n",
       "\n",
       "    .dataframe tbody tr th {\n",
       "        vertical-align: top;\n",
       "    }\n",
       "\n",
       "    .dataframe thead th {\n",
       "        text-align: right;\n",
       "    }\n",
       "</style>\n",
       "<table border=\"1\" class=\"dataframe\">\n",
       "  <thead>\n",
       "    <tr style=\"text-align: right;\">\n",
       "      <th></th>\n",
       "      <th>mean area</th>\n",
       "      <th>mean compactness</th>\n",
       "    </tr>\n",
       "  </thead>\n",
       "  <tbody>\n",
       "    <tr>\n",
       "      <th>0</th>\n",
       "      <td>1001.0</td>\n",
       "      <td>0.27760</td>\n",
       "    </tr>\n",
       "    <tr>\n",
       "      <th>1</th>\n",
       "      <td>1326.0</td>\n",
       "      <td>0.07864</td>\n",
       "    </tr>\n",
       "    <tr>\n",
       "      <th>2</th>\n",
       "      <td>1203.0</td>\n",
       "      <td>0.15990</td>\n",
       "    </tr>\n",
       "    <tr>\n",
       "      <th>3</th>\n",
       "      <td>386.1</td>\n",
       "      <td>0.28390</td>\n",
       "    </tr>\n",
       "    <tr>\n",
       "      <th>4</th>\n",
       "      <td>1297.0</td>\n",
       "      <td>0.13280</td>\n",
       "    </tr>\n",
       "    <tr>\n",
       "      <th>...</th>\n",
       "      <td>...</td>\n",
       "      <td>...</td>\n",
       "    </tr>\n",
       "    <tr>\n",
       "      <th>564</th>\n",
       "      <td>1479.0</td>\n",
       "      <td>0.11590</td>\n",
       "    </tr>\n",
       "    <tr>\n",
       "      <th>565</th>\n",
       "      <td>1261.0</td>\n",
       "      <td>0.10340</td>\n",
       "    </tr>\n",
       "    <tr>\n",
       "      <th>566</th>\n",
       "      <td>858.1</td>\n",
       "      <td>0.10230</td>\n",
       "    </tr>\n",
       "    <tr>\n",
       "      <th>567</th>\n",
       "      <td>1265.0</td>\n",
       "      <td>0.27700</td>\n",
       "    </tr>\n",
       "    <tr>\n",
       "      <th>568</th>\n",
       "      <td>181.0</td>\n",
       "      <td>0.04362</td>\n",
       "    </tr>\n",
       "  </tbody>\n",
       "</table>\n",
       "<p>569 rows × 2 columns</p>\n",
       "</div>"
      ],
      "text/plain": [
       "     mean area  mean compactness\n",
       "0       1001.0           0.27760\n",
       "1       1326.0           0.07864\n",
       "2       1203.0           0.15990\n",
       "3        386.1           0.28390\n",
       "4       1297.0           0.13280\n",
       "..         ...               ...\n",
       "564     1479.0           0.11590\n",
       "565     1261.0           0.10340\n",
       "566      858.1           0.10230\n",
       "567     1265.0           0.27700\n",
       "568      181.0           0.04362\n",
       "\n",
       "[569 rows x 2 columns]"
      ]
     },
     "execution_count": 79,
     "metadata": {},
     "output_type": "execute_result"
    }
   ],
   "source": [
    "X[['mean area', 'mean compactness']]"
   ]
  },
  {
   "cell_type": "code",
   "execution_count": 80,
   "metadata": {},
   "outputs": [
    {
     "data": {
      "text/html": [
       "<div>\n",
       "<style scoped>\n",
       "    .dataframe tbody tr th:only-of-type {\n",
       "        vertical-align: middle;\n",
       "    }\n",
       "\n",
       "    .dataframe tbody tr th {\n",
       "        vertical-align: top;\n",
       "    }\n",
       "\n",
       "    .dataframe thead th {\n",
       "        text-align: right;\n",
       "    }\n",
       "</style>\n",
       "<table border=\"1\" class=\"dataframe\">\n",
       "  <thead>\n",
       "    <tr style=\"text-align: right;\">\n",
       "      <th></th>\n",
       "      <th>benign</th>\n",
       "    </tr>\n",
       "  </thead>\n",
       "  <tbody>\n",
       "    <tr>\n",
       "      <th>0</th>\n",
       "      <td>0</td>\n",
       "    </tr>\n",
       "    <tr>\n",
       "      <th>1</th>\n",
       "      <td>0</td>\n",
       "    </tr>\n",
       "    <tr>\n",
       "      <th>2</th>\n",
       "      <td>0</td>\n",
       "    </tr>\n",
       "    <tr>\n",
       "      <th>3</th>\n",
       "      <td>0</td>\n",
       "    </tr>\n",
       "    <tr>\n",
       "      <th>4</th>\n",
       "      <td>0</td>\n",
       "    </tr>\n",
       "    <tr>\n",
       "      <th>...</th>\n",
       "      <td>...</td>\n",
       "    </tr>\n",
       "    <tr>\n",
       "      <th>564</th>\n",
       "      <td>0</td>\n",
       "    </tr>\n",
       "    <tr>\n",
       "      <th>565</th>\n",
       "      <td>0</td>\n",
       "    </tr>\n",
       "    <tr>\n",
       "      <th>566</th>\n",
       "      <td>0</td>\n",
       "    </tr>\n",
       "    <tr>\n",
       "      <th>567</th>\n",
       "      <td>0</td>\n",
       "    </tr>\n",
       "    <tr>\n",
       "      <th>568</th>\n",
       "      <td>1</td>\n",
       "    </tr>\n",
       "  </tbody>\n",
       "</table>\n",
       "<p>569 rows × 1 columns</p>\n",
       "</div>"
      ],
      "text/plain": [
       "     benign\n",
       "0         0\n",
       "1         0\n",
       "2         0\n",
       "3         0\n",
       "4         0\n",
       "..      ...\n",
       "564       0\n",
       "565       0\n",
       "566       0\n",
       "567       0\n",
       "568       1\n",
       "\n",
       "[569 rows x 1 columns]"
      ]
     },
     "execution_count": 80,
     "metadata": {},
     "output_type": "execute_result"
    }
   ],
   "source": [
    "y = pd.Categorical.from_codes(breast_cancer.target, breast_cancer.target_names)\n",
    "y = pd.get_dummies(y, drop_first=True)\n",
    "y"
   ]
  },
  {
   "cell_type": "code",
   "execution_count": 81,
   "metadata": {},
   "outputs": [],
   "source": [
    "X_train, X_test, y_train, y_test = train_test_split(X, y, random_state=1)"
   ]
  },
  {
   "cell_type": "code",
   "execution_count": 82,
   "metadata": {},
   "outputs": [
    {
     "name": "stderr",
     "output_type": "stream",
     "text": [
      "/usr/local/lib/python3.7/site-packages/ipykernel_launcher.py:2: DataConversionWarning: A column-vector y was passed when a 1d array was expected. Please change the shape of y to (n_samples, ), for example using ravel().\n",
      "  \n"
     ]
    },
    {
     "data": {
      "text/plain": [
       "<matplotlib.axes._subplots.AxesSubplot at 0x7fc718f20e90>"
      ]
     },
     "execution_count": 82,
     "metadata": {},
     "output_type": "execute_result"
    },
    {
     "data": {
      "image/png": "[encoded data removed]",
      "text/plain": [
       "<Figure size 432x288 with 1 Axes>"
      ]
     },
     "metadata": {},
     "output_type": "display_data"
    }
   ],
   "source": [
    "knn = KNeighborsClassifier(n_neighbors=5, metric='euclidean')\n",
    "knn.fit(X_train, y_train)\n",
    "y_pred = knn.predict(X_test)\n",
    "sns.scatterplot(\n",
    "    x='mean area',\n",
    "    y='mean compactness',\n",
    "    hue='benign',\n",
    "    data=X_test.join(y_test, how='outer')\n",
    ")"
   ]
  },
  {
   "cell_type": "code",
   "execution_count": 83,
   "metadata": {},
   "outputs": [
    {
     "name": "stdout",
     "output_type": "stream",
     "text": [
      "     test  predict\n",
      "0       1        0\n",
      "1       0        0\n",
      "2       1        1\n",
      "3       0        0\n",
      "4       0        0\n",
      "..    ...      ...\n",
      "138     1        1\n",
      "139     1        1\n",
      "140     0        0\n",
      "141     0        0\n",
      "142     1        1\n",
      "\n",
      "[143 rows x 2 columns]\n"
     ]
    }
   ],
   "source": [
    "results = pd.DataFrame([y_test[\"benign\"].values, y_pred], index=(\"test\", \"predict\")).T\n",
    "print(results)"
   ]
  },
  {
   "cell_type": "code",
   "execution_count": 84,
   "metadata": {},
   "outputs": [
    {
     "data": {
      "text/html": [
       "<div>\n",
       "<style scoped>\n",
       "    .dataframe tbody tr th:only-of-type {\n",
       "        vertical-align: middle;\n",
       "    }\n",
       "\n",
       "    .dataframe tbody tr th {\n",
       "        vertical-align: top;\n",
       "    }\n",
       "\n",
       "    .dataframe thead th {\n",
       "        text-align: right;\n",
       "    }\n",
       "</style>\n",
       "<table border=\"1\" class=\"dataframe\">\n",
       "  <thead>\n",
       "    <tr style=\"text-align: right;\">\n",
       "      <th></th>\n",
       "      <th>test</th>\n",
       "      <th>predict</th>\n",
       "    </tr>\n",
       "  </thead>\n",
       "  <tbody>\n",
       "    <tr>\n",
       "      <th>0</th>\n",
       "      <td>1</td>\n",
       "      <td>0</td>\n",
       "    </tr>\n",
       "    <tr>\n",
       "      <th>33</th>\n",
       "      <td>0</td>\n",
       "      <td>1</td>\n",
       "    </tr>\n",
       "    <tr>\n",
       "      <th>38</th>\n",
       "      <td>0</td>\n",
       "      <td>1</td>\n",
       "    </tr>\n",
       "    <tr>\n",
       "      <th>63</th>\n",
       "      <td>1</td>\n",
       "      <td>0</td>\n",
       "    </tr>\n",
       "    <tr>\n",
       "      <th>76</th>\n",
       "      <td>0</td>\n",
       "      <td>1</td>\n",
       "    </tr>\n",
       "    <tr>\n",
       "      <th>77</th>\n",
       "      <td>0</td>\n",
       "      <td>1</td>\n",
       "    </tr>\n",
       "    <tr>\n",
       "      <th>110</th>\n",
       "      <td>0</td>\n",
       "      <td>1</td>\n",
       "    </tr>\n",
       "    <tr>\n",
       "      <th>127</th>\n",
       "      <td>1</td>\n",
       "      <td>0</td>\n",
       "    </tr>\n",
       "    <tr>\n",
       "      <th>137</th>\n",
       "      <td>1</td>\n",
       "      <td>0</td>\n",
       "    </tr>\n",
       "  </tbody>\n",
       "</table>\n",
       "</div>"
      ],
      "text/plain": [
       "     test  predict\n",
       "0       1        0\n",
       "33      0        1\n",
       "38      0        1\n",
       "63      1        0\n",
       "76      0        1\n",
       "77      0        1\n",
       "110     0        1\n",
       "127     1        0\n",
       "137     1        0"
      ]
     },
     "execution_count": 84,
     "metadata": {},
     "output_type": "execute_result"
    }
   ],
   "source": [
    "results[results[\"test\"]+results[\"predict\"] == 1]"
   ]
  },
  {
   "cell_type": "code",
   "execution_count": 85,
   "metadata": {},
   "outputs": [
    {
     "name": "stdout",
     "output_type": "stream",
     "text": [
      "Accuracy: 0.9370629370629371\n"
     ]
    }
   ],
   "source": [
    "from sklearn import metrics\n",
    "print(\"Accuracy:\",metrics.accuracy_score(y_test, y_pred))"
   ]
  }
 ],
 "metadata": {
  "kernelspec": {
   "display_name": "Python 3",
   "language": "python",
   "name": "python3"
  },
  "language_info": {
   "codemirror_mode": {
    "name": "ipython",
    "version": 3
   },
   "file_extension": ".py",
   "mimetype": "text/x-python",
   "name": "python",
   "nbconvert_exporter": "python",
   "pygments_lexer": "ipython3",
   "version": "3.7.5"
  }
 },
 "nbformat": 4,
 "nbformat_minor": 4
}
